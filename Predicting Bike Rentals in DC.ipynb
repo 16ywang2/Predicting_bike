{
 "cells": [
  {
   "cell_type": "code",
   "execution_count": 245,
   "metadata": {},
   "outputs": [],
   "source": [
    "import pandas as pd\n",
    "import numpy as np\n",
    "import matplotlib.pyplot as plt\n",
    "import seaborn as sns\n",
    "from sklearn.linear_model import LinearRegression\n",
    "from sklearn.metrics import mean_squared_error\n",
    "from sklearn.metrics import mean_absolute_error\n",
    "from sklearn.tree import DecisionTreeRegressor\n",
    "from sklearn.ensemble import RandomForestRegressor\n",
    "import random\n",
    "import math\n"
   ]
  },
  {
   "cell_type": "code",
   "execution_count": 194,
   "metadata": {},
   "outputs": [],
   "source": [
    "bike = pd.read_csv(\"bike_rental_hour.csv\")"
   ]
  },
  {
   "cell_type": "markdown",
   "metadata": {},
   "source": [
    "Some EDA first"
   ]
  },
  {
   "cell_type": "code",
   "execution_count": 195,
   "metadata": {},
   "outputs": [
    {
     "data": {
      "text/html": [
       "<div>\n",
       "<style scoped>\n",
       "    .dataframe tbody tr th:only-of-type {\n",
       "        vertical-align: middle;\n",
       "    }\n",
       "\n",
       "    .dataframe tbody tr th {\n",
       "        vertical-align: top;\n",
       "    }\n",
       "\n",
       "    .dataframe thead th {\n",
       "        text-align: right;\n",
       "    }\n",
       "</style>\n",
       "<table border=\"1\" class=\"dataframe\">\n",
       "  <thead>\n",
       "    <tr style=\"text-align: right;\">\n",
       "      <th></th>\n",
       "      <th>instant</th>\n",
       "      <th>dteday</th>\n",
       "      <th>season</th>\n",
       "      <th>yr</th>\n",
       "      <th>mnth</th>\n",
       "      <th>hr</th>\n",
       "      <th>holiday</th>\n",
       "      <th>weekday</th>\n",
       "      <th>workingday</th>\n",
       "      <th>weathersit</th>\n",
       "      <th>temp</th>\n",
       "      <th>atemp</th>\n",
       "      <th>hum</th>\n",
       "      <th>windspeed</th>\n",
       "      <th>casual</th>\n",
       "      <th>registered</th>\n",
       "      <th>cnt</th>\n",
       "    </tr>\n",
       "  </thead>\n",
       "  <tbody>\n",
       "    <tr>\n",
       "      <th>0</th>\n",
       "      <td>1</td>\n",
       "      <td>2011-01-01</td>\n",
       "      <td>1</td>\n",
       "      <td>0</td>\n",
       "      <td>1</td>\n",
       "      <td>0</td>\n",
       "      <td>0</td>\n",
       "      <td>6</td>\n",
       "      <td>0</td>\n",
       "      <td>1</td>\n",
       "      <td>0.24</td>\n",
       "      <td>0.2879</td>\n",
       "      <td>0.81</td>\n",
       "      <td>0.0</td>\n",
       "      <td>3</td>\n",
       "      <td>13</td>\n",
       "      <td>16</td>\n",
       "    </tr>\n",
       "    <tr>\n",
       "      <th>1</th>\n",
       "      <td>2</td>\n",
       "      <td>2011-01-01</td>\n",
       "      <td>1</td>\n",
       "      <td>0</td>\n",
       "      <td>1</td>\n",
       "      <td>1</td>\n",
       "      <td>0</td>\n",
       "      <td>6</td>\n",
       "      <td>0</td>\n",
       "      <td>1</td>\n",
       "      <td>0.22</td>\n",
       "      <td>0.2727</td>\n",
       "      <td>0.80</td>\n",
       "      <td>0.0</td>\n",
       "      <td>8</td>\n",
       "      <td>32</td>\n",
       "      <td>40</td>\n",
       "    </tr>\n",
       "    <tr>\n",
       "      <th>2</th>\n",
       "      <td>3</td>\n",
       "      <td>2011-01-01</td>\n",
       "      <td>1</td>\n",
       "      <td>0</td>\n",
       "      <td>1</td>\n",
       "      <td>2</td>\n",
       "      <td>0</td>\n",
       "      <td>6</td>\n",
       "      <td>0</td>\n",
       "      <td>1</td>\n",
       "      <td>0.22</td>\n",
       "      <td>0.2727</td>\n",
       "      <td>0.80</td>\n",
       "      <td>0.0</td>\n",
       "      <td>5</td>\n",
       "      <td>27</td>\n",
       "      <td>32</td>\n",
       "    </tr>\n",
       "    <tr>\n",
       "      <th>3</th>\n",
       "      <td>4</td>\n",
       "      <td>2011-01-01</td>\n",
       "      <td>1</td>\n",
       "      <td>0</td>\n",
       "      <td>1</td>\n",
       "      <td>3</td>\n",
       "      <td>0</td>\n",
       "      <td>6</td>\n",
       "      <td>0</td>\n",
       "      <td>1</td>\n",
       "      <td>0.24</td>\n",
       "      <td>0.2879</td>\n",
       "      <td>0.75</td>\n",
       "      <td>0.0</td>\n",
       "      <td>3</td>\n",
       "      <td>10</td>\n",
       "      <td>13</td>\n",
       "    </tr>\n",
       "    <tr>\n",
       "      <th>4</th>\n",
       "      <td>5</td>\n",
       "      <td>2011-01-01</td>\n",
       "      <td>1</td>\n",
       "      <td>0</td>\n",
       "      <td>1</td>\n",
       "      <td>4</td>\n",
       "      <td>0</td>\n",
       "      <td>6</td>\n",
       "      <td>0</td>\n",
       "      <td>1</td>\n",
       "      <td>0.24</td>\n",
       "      <td>0.2879</td>\n",
       "      <td>0.75</td>\n",
       "      <td>0.0</td>\n",
       "      <td>0</td>\n",
       "      <td>1</td>\n",
       "      <td>1</td>\n",
       "    </tr>\n",
       "  </tbody>\n",
       "</table>\n",
       "</div>"
      ],
      "text/plain": [
       "   instant      dteday  season  yr  mnth  hr  holiday  weekday  workingday  \\\n",
       "0        1  2011-01-01       1   0     1   0        0        6           0   \n",
       "1        2  2011-01-01       1   0     1   1        0        6           0   \n",
       "2        3  2011-01-01       1   0     1   2        0        6           0   \n",
       "3        4  2011-01-01       1   0     1   3        0        6           0   \n",
       "4        5  2011-01-01       1   0     1   4        0        6           0   \n",
       "\n",
       "   weathersit  temp   atemp   hum  windspeed  casual  registered  cnt  \n",
       "0           1  0.24  0.2879  0.81        0.0       3          13   16  \n",
       "1           1  0.22  0.2727  0.80        0.0       8          32   40  \n",
       "2           1  0.22  0.2727  0.80        0.0       5          27   32  \n",
       "3           1  0.24  0.2879  0.75        0.0       3          10   13  \n",
       "4           1  0.24  0.2879  0.75        0.0       0           1    1  "
      ]
     },
     "execution_count": 195,
     "metadata": {},
     "output_type": "execute_result"
    }
   ],
   "source": [
    "bike.head()"
   ]
  },
  {
   "cell_type": "code",
   "execution_count": 196,
   "metadata": {},
   "outputs": [
    {
     "data": {
      "text/plain": [
       "(array([6972., 3705., 2659., 1660.,  987.,  663.,  369.,  188.,  139.,\n",
       "          37.]),\n",
       " array([  1. ,  98.6, 196.2, 293.8, 391.4, 489. , 586.6, 684.2, 781.8,\n",
       "        879.4, 977. ]),\n",
       " <a list of 10 Patch objects>)"
      ]
     },
     "execution_count": 196,
     "metadata": {},
     "output_type": "execute_result"
    },
    {
     "data": {
      "image/png": "[encoded data removed]",
      "text/plain": [
       "<Figure size 432x288 with 1 Axes>"
      ]
     },
     "metadata": {
      "needs_background": "light"
     },
     "output_type": "display_data"
    }
   ],
   "source": [
    "%matplotlib inline\n",
    "plt.hist(bike['cnt'])"
   ]
  },
  {
   "cell_type": "code",
   "execution_count": 302,
   "metadata": {},
   "outputs": [
    {
     "data": {
      "text/plain": [
       "<matplotlib.axes._subplots.AxesSubplot at 0x7fe9cd0529d0>"
      ]
     },
     "execution_count": 302,
     "metadata": {},
     "output_type": "execute_result"
    },
    {
     "data": {
      "image/png": "[encoded data removed]",
      "text/plain": [
       "<Figure size 432x288 with 1 Axes>"
      ]
     },
     "metadata": {
      "needs_background": "light"
     },
     "output_type": "display_data"
    }
   ],
   "source": [
    "sns.lineplot(x = bike['mnth'], y = bike[\"cnt\"], hue = bike[\"yr\"])"
   ]
  },
  {
   "cell_type": "markdown",
   "metadata": {},
   "source": [
    "Let's group hours into morning, afternoon, evening and before dawn ..."
   ]
  },
  {
   "cell_type": "code",
   "execution_count": 197,
   "metadata": {},
   "outputs": [],
   "source": [
    "def assign_label(hour):\n",
    "    if 6<hour<=12:\n",
    "        return 1\n",
    "    elif 12 < hour <= 18:\n",
    "        return 2\n",
    "    elif 18< hour <= 24:\n",
    "        return 3\n",
    "    else:\n",
    "        return 4"
   ]
  },
  {
   "cell_type": "code",
   "execution_count": 304,
   "metadata": {},
   "outputs": [],
   "source": [
    "bike[\"time_label\"] = bike[\"hr\"].apply(assign_label)"
   ]
  },
  {
   "cell_type": "code",
   "execution_count": 307,
   "metadata": {},
   "outputs": [
    {
     "data": {
      "text/plain": [
       "<matplotlib.axes._subplots.AxesSubplot at 0x7fe9cd815850>"
      ]
     },
     "execution_count": 307,
     "metadata": {},
     "output_type": "execute_result"
    },
    {
     "data": {
      "image/png": "[encoded data removed]",
      "text/plain": [
       "<Figure size 432x288 with 1 Axes>"
      ]
     },
     "metadata": {
      "needs_background": "light"
     },
     "output_type": "display_data"
    }
   ],
   "source": [
    "sns.barplot(x = bike['time_label'], y = bike[\"cnt\"], hue = bike[\"yr\"])"
   ]
  },
  {
   "cell_type": "code",
   "execution_count": 199,
   "metadata": {},
   "outputs": [],
   "source": [
    "cor_df = bike.corr()"
   ]
  },
  {
   "cell_type": "code",
   "execution_count": 200,
   "metadata": {},
   "outputs": [],
   "source": [
    "cnt_corr = abs(cor_df[\"cnt\"]).sort_values(ascending = False)"
   ]
  },
  {
   "cell_type": "code",
   "execution_count": 201,
   "metadata": {},
   "outputs": [
    {
     "data": {
      "text/plain": [
       "cnt           1.000000\n",
       "registered    0.972151\n",
       "casual        0.694564\n",
       "time_label    0.494422\n",
       "temp          0.404772\n",
       "atemp         0.400929\n",
       "hr            0.394071\n",
       "hum           0.322911\n",
       "instant       0.278379\n",
       "yr            0.250495\n",
       "season        0.178056\n",
       "weathersit    0.142426\n",
       "mnth          0.120638\n",
       "windspeed     0.093234\n",
       "holiday       0.030927\n",
       "workingday    0.030284\n",
       "weekday       0.026900\n",
       "Name: cnt, dtype: float64"
      ]
     },
     "execution_count": 201,
     "metadata": {},
     "output_type": "execute_result"
    }
   ],
   "source": [
    "cnt_corr"
   ]
  },
  {
   "cell_type": "markdown",
   "metadata": {},
   "source": [
    "Splitting the data into training and test sets (80/20)"
   ]
  },
  {
   "cell_type": "code",
   "execution_count": 202,
   "metadata": {},
   "outputs": [
    {
     "data": {
      "text/plain": [
       "13903.2"
      ]
     },
     "execution_count": 202,
     "metadata": {},
     "output_type": "execute_result"
    }
   ],
   "source": [
    "bike.shape[0] * 0.8"
   ]
  },
  {
   "cell_type": "code",
   "execution_count": 203,
   "metadata": {},
   "outputs": [],
   "source": [
    "random.seed(1)\n",
    "bike = bike.reindex(np.random.permutation(bike.shape[0]))"
   ]
  },
  {
   "cell_type": "code",
   "execution_count": 204,
   "metadata": {},
   "outputs": [
    {
     "data": {
      "text/html": [
       "<div>\n",
       "<style scoped>\n",
       "    .dataframe tbody tr th:only-of-type {\n",
       "        vertical-align: middle;\n",
       "    }\n",
       "\n",
       "    .dataframe tbody tr th {\n",
       "        vertical-align: top;\n",
       "    }\n",
       "\n",
       "    .dataframe thead th {\n",
       "        text-align: right;\n",
       "    }\n",
       "</style>\n",
       "<table border=\"1\" class=\"dataframe\">\n",
       "  <thead>\n",
       "    <tr style=\"text-align: right;\">\n",
       "      <th></th>\n",
       "      <th>instant</th>\n",
       "      <th>dteday</th>\n",
       "      <th>season</th>\n",
       "      <th>yr</th>\n",
       "      <th>mnth</th>\n",
       "      <th>hr</th>\n",
       "      <th>holiday</th>\n",
       "      <th>weekday</th>\n",
       "      <th>workingday</th>\n",
       "      <th>weathersit</th>\n",
       "      <th>temp</th>\n",
       "      <th>atemp</th>\n",
       "      <th>hum</th>\n",
       "      <th>windspeed</th>\n",
       "      <th>casual</th>\n",
       "      <th>registered</th>\n",
       "      <th>cnt</th>\n",
       "      <th>time_label</th>\n",
       "    </tr>\n",
       "  </thead>\n",
       "  <tbody>\n",
       "    <tr>\n",
       "      <th>13881</th>\n",
       "      <td>13882</td>\n",
       "      <td>2012-08-06</td>\n",
       "      <td>3</td>\n",
       "      <td>1</td>\n",
       "      <td>8</td>\n",
       "      <td>14</td>\n",
       "      <td>0</td>\n",
       "      <td>1</td>\n",
       "      <td>1</td>\n",
       "      <td>1</td>\n",
       "      <td>0.82</td>\n",
       "      <td>0.7576</td>\n",
       "      <td>0.46</td>\n",
       "      <td>0.0000</td>\n",
       "      <td>99</td>\n",
       "      <td>188</td>\n",
       "      <td>287</td>\n",
       "      <td>2</td>\n",
       "    </tr>\n",
       "    <tr>\n",
       "      <th>8099</th>\n",
       "      <td>8100</td>\n",
       "      <td>2011-12-09</td>\n",
       "      <td>4</td>\n",
       "      <td>0</td>\n",
       "      <td>12</td>\n",
       "      <td>3</td>\n",
       "      <td>0</td>\n",
       "      <td>5</td>\n",
       "      <td>1</td>\n",
       "      <td>1</td>\n",
       "      <td>0.22</td>\n",
       "      <td>0.2727</td>\n",
       "      <td>0.80</td>\n",
       "      <td>0.0000</td>\n",
       "      <td>1</td>\n",
       "      <td>5</td>\n",
       "      <td>6</td>\n",
       "      <td>4</td>\n",
       "    </tr>\n",
       "    <tr>\n",
       "      <th>11195</th>\n",
       "      <td>11196</td>\n",
       "      <td>2012-04-16</td>\n",
       "      <td>2</td>\n",
       "      <td>1</td>\n",
       "      <td>4</td>\n",
       "      <td>16</td>\n",
       "      <td>1</td>\n",
       "      <td>1</td>\n",
       "      <td>0</td>\n",
       "      <td>1</td>\n",
       "      <td>0.80</td>\n",
       "      <td>0.6970</td>\n",
       "      <td>0.33</td>\n",
       "      <td>0.4627</td>\n",
       "      <td>92</td>\n",
       "      <td>266</td>\n",
       "      <td>358</td>\n",
       "      <td>2</td>\n",
       "    </tr>\n",
       "    <tr>\n",
       "      <th>9202</th>\n",
       "      <td>9203</td>\n",
       "      <td>2012-01-24</td>\n",
       "      <td>1</td>\n",
       "      <td>1</td>\n",
       "      <td>1</td>\n",
       "      <td>8</td>\n",
       "      <td>0</td>\n",
       "      <td>2</td>\n",
       "      <td>1</td>\n",
       "      <td>2</td>\n",
       "      <td>0.32</td>\n",
       "      <td>0.3333</td>\n",
       "      <td>0.93</td>\n",
       "      <td>0.1343</td>\n",
       "      <td>11</td>\n",
       "      <td>479</td>\n",
       "      <td>490</td>\n",
       "      <td>1</td>\n",
       "    </tr>\n",
       "    <tr>\n",
       "      <th>12650</th>\n",
       "      <td>12651</td>\n",
       "      <td>2012-06-16</td>\n",
       "      <td>2</td>\n",
       "      <td>1</td>\n",
       "      <td>6</td>\n",
       "      <td>7</td>\n",
       "      <td>0</td>\n",
       "      <td>6</td>\n",
       "      <td>0</td>\n",
       "      <td>1</td>\n",
       "      <td>0.54</td>\n",
       "      <td>0.5152</td>\n",
       "      <td>0.68</td>\n",
       "      <td>0.1940</td>\n",
       "      <td>10</td>\n",
       "      <td>68</td>\n",
       "      <td>78</td>\n",
       "      <td>1</td>\n",
       "    </tr>\n",
       "  </tbody>\n",
       "</table>\n",
       "</div>"
      ],
      "text/plain": [
       "       instant      dteday  season  yr  mnth  hr  holiday  weekday  \\\n",
       "13881    13882  2012-08-06       3   1     8  14        0        1   \n",
       "8099      8100  2011-12-09       4   0    12   3        0        5   \n",
       "11195    11196  2012-04-16       2   1     4  16        1        1   \n",
       "9202      9203  2012-01-24       1   1     1   8        0        2   \n",
       "12650    12651  2012-06-16       2   1     6   7        0        6   \n",
       "\n",
       "       workingday  weathersit  temp   atemp   hum  windspeed  casual  \\\n",
       "13881           1           1  0.82  0.7576  0.46     0.0000      99   \n",
       "8099            1           1  0.22  0.2727  0.80     0.0000       1   \n",
       "11195           0           1  0.80  0.6970  0.33     0.4627      92   \n",
       "9202            1           2  0.32  0.3333  0.93     0.1343      11   \n",
       "12650           0           1  0.54  0.5152  0.68     0.1940      10   \n",
       "\n",
       "       registered  cnt  time_label  \n",
       "13881         188  287           2  \n",
       "8099            5    6           4  \n",
       "11195         266  358           2  \n",
       "9202          479  490           1  \n",
       "12650          68   78           1  "
      ]
     },
     "execution_count": 204,
     "metadata": {},
     "output_type": "execute_result"
    }
   ],
   "source": [
    "bike.head()"
   ]
  },
  {
   "cell_type": "code",
   "execution_count": 205,
   "metadata": {},
   "outputs": [],
   "source": [
    "train = bike.iloc[0:13903,]\n",
    "test = bike.iloc[13903:,]"
   ]
  },
  {
   "cell_type": "markdown",
   "metadata": {
    "collapsed": true
   },
   "source": [
    "Now we perform some basic variable selection and cleaning"
   ]
  },
  {
   "cell_type": "code",
   "execution_count": 206,
   "metadata": {},
   "outputs": [],
   "source": [
    "## remove variables that have corr <0.05\n",
    "\n",
    "columns = cnt_corr[cnt_corr > 0.05].index\n",
    "\n",
    "## remove cnt, casual, registered, instant\n",
    "\n",
    "columns = columns.drop([\"cnt\", \"registered\", \"casual\", \"instant\"])\n",
    "\n",
    "## remove temp as we have atemp, also removing hr since we grouped them\n",
    "\n",
    "columns = columns.drop([\"temp\", \"hr\"])\n"
   ]
  },
  {
   "cell_type": "code",
   "execution_count": 207,
   "metadata": {},
   "outputs": [
    {
     "data": {
      "text/plain": [
       "Index(['time_label', 'atemp', 'hum', 'yr', 'season', 'weathersit', 'mnth',\n",
       "       'windspeed'],\n",
       "      dtype='object')"
      ]
     },
     "execution_count": 207,
     "metadata": {},
     "output_type": "execute_result"
    }
   ],
   "source": [
    "columns"
   ]
  },
  {
   "cell_type": "markdown",
   "metadata": {},
   "source": [
    "Now let's run a basic regression"
   ]
  },
  {
   "cell_type": "code",
   "execution_count": 208,
   "metadata": {},
   "outputs": [],
   "source": [
    "model1 = LinearRegression()\n",
    "model1.fit(train[columns], train[\"cnt\"])\n",
    "prediction1 = model1.predict(test[columns])\n",
    "rme1 = math.sqrt(mean_squared_error(test[\"cnt\"], prediction1))"
   ]
  },
  {
   "cell_type": "code",
   "execution_count": 209,
   "metadata": {},
   "outputs": [],
   "source": [
    "rme = {}\n",
    "prediction = {}\n",
    "rme[\"LinearReg\"] = rme1\n",
    "prediction[\"True\"] = test[\"cnt\"]\n",
    "prediction[\"LinearReg\"] = prediction1"
   ]
  },
  {
   "cell_type": "code",
   "execution_count": 210,
   "metadata": {},
   "outputs": [
    {
     "data": {
      "text/html": [
       "<div>\n",
       "<style scoped>\n",
       "    .dataframe tbody tr th:only-of-type {\n",
       "        vertical-align: middle;\n",
       "    }\n",
       "\n",
       "    .dataframe tbody tr th {\n",
       "        vertical-align: top;\n",
       "    }\n",
       "\n",
       "    .dataframe thead th {\n",
       "        text-align: right;\n",
       "    }\n",
       "</style>\n",
       "<table border=\"1\" class=\"dataframe\">\n",
       "  <thead>\n",
       "    <tr style=\"text-align: right;\">\n",
       "      <th></th>\n",
       "      <th>instant</th>\n",
       "      <th>dteday</th>\n",
       "      <th>season</th>\n",
       "      <th>yr</th>\n",
       "      <th>mnth</th>\n",
       "      <th>hr</th>\n",
       "      <th>holiday</th>\n",
       "      <th>weekday</th>\n",
       "      <th>workingday</th>\n",
       "      <th>weathersit</th>\n",
       "      <th>temp</th>\n",
       "      <th>atemp</th>\n",
       "      <th>hum</th>\n",
       "      <th>windspeed</th>\n",
       "      <th>casual</th>\n",
       "      <th>registered</th>\n",
       "      <th>cnt</th>\n",
       "      <th>time_label</th>\n",
       "    </tr>\n",
       "  </thead>\n",
       "  <tbody>\n",
       "    <tr>\n",
       "      <th>7518</th>\n",
       "      <td>7519</td>\n",
       "      <td>2011-11-14</td>\n",
       "      <td>4</td>\n",
       "      <td>0</td>\n",
       "      <td>11</td>\n",
       "      <td>21</td>\n",
       "      <td>0</td>\n",
       "      <td>1</td>\n",
       "      <td>1</td>\n",
       "      <td>1</td>\n",
       "      <td>0.60</td>\n",
       "      <td>0.6212</td>\n",
       "      <td>0.53</td>\n",
       "      <td>0.3582</td>\n",
       "      <td>37</td>\n",
       "      <td>176</td>\n",
       "      <td>213</td>\n",
       "      <td>3</td>\n",
       "    </tr>\n",
       "    <tr>\n",
       "      <th>15080</th>\n",
       "      <td>15081</td>\n",
       "      <td>2012-09-25</td>\n",
       "      <td>4</td>\n",
       "      <td>1</td>\n",
       "      <td>9</td>\n",
       "      <td>13</td>\n",
       "      <td>0</td>\n",
       "      <td>2</td>\n",
       "      <td>1</td>\n",
       "      <td>1</td>\n",
       "      <td>0.64</td>\n",
       "      <td>0.6212</td>\n",
       "      <td>0.47</td>\n",
       "      <td>0.2537</td>\n",
       "      <td>48</td>\n",
       "      <td>257</td>\n",
       "      <td>305</td>\n",
       "      <td>2</td>\n",
       "    </tr>\n",
       "    <tr>\n",
       "      <th>6930</th>\n",
       "      <td>6931</td>\n",
       "      <td>2011-10-21</td>\n",
       "      <td>4</td>\n",
       "      <td>0</td>\n",
       "      <td>10</td>\n",
       "      <td>9</td>\n",
       "      <td>0</td>\n",
       "      <td>5</td>\n",
       "      <td>1</td>\n",
       "      <td>2</td>\n",
       "      <td>0.42</td>\n",
       "      <td>0.4242</td>\n",
       "      <td>0.58</td>\n",
       "      <td>0.1343</td>\n",
       "      <td>33</td>\n",
       "      <td>189</td>\n",
       "      <td>222</td>\n",
       "      <td>1</td>\n",
       "    </tr>\n",
       "    <tr>\n",
       "      <th>17343</th>\n",
       "      <td>17344</td>\n",
       "      <td>2012-12-30</td>\n",
       "      <td>1</td>\n",
       "      <td>1</td>\n",
       "      <td>12</td>\n",
       "      <td>12</td>\n",
       "      <td>0</td>\n",
       "      <td>0</td>\n",
       "      <td>0</td>\n",
       "      <td>1</td>\n",
       "      <td>0.28</td>\n",
       "      <td>0.2273</td>\n",
       "      <td>0.36</td>\n",
       "      <td>0.5821</td>\n",
       "      <td>47</td>\n",
       "      <td>97</td>\n",
       "      <td>144</td>\n",
       "      <td>1</td>\n",
       "    </tr>\n",
       "    <tr>\n",
       "      <th>11575</th>\n",
       "      <td>11576</td>\n",
       "      <td>2012-05-02</td>\n",
       "      <td>2</td>\n",
       "      <td>1</td>\n",
       "      <td>5</td>\n",
       "      <td>12</td>\n",
       "      <td>0</td>\n",
       "      <td>3</td>\n",
       "      <td>1</td>\n",
       "      <td>2</td>\n",
       "      <td>0.58</td>\n",
       "      <td>0.5455</td>\n",
       "      <td>0.83</td>\n",
       "      <td>0.2239</td>\n",
       "      <td>35</td>\n",
       "      <td>210</td>\n",
       "      <td>245</td>\n",
       "      <td>1</td>\n",
       "    </tr>\n",
       "  </tbody>\n",
       "</table>\n",
       "</div>"
      ],
      "text/plain": [
       "       instant      dteday  season  yr  mnth  hr  holiday  weekday  \\\n",
       "7518      7519  2011-11-14       4   0    11  21        0        1   \n",
       "15080    15081  2012-09-25       4   1     9  13        0        2   \n",
       "6930      6931  2011-10-21       4   0    10   9        0        5   \n",
       "17343    17344  2012-12-30       1   1    12  12        0        0   \n",
       "11575    11576  2012-05-02       2   1     5  12        0        3   \n",
       "\n",
       "       workingday  weathersit  temp   atemp   hum  windspeed  casual  \\\n",
       "7518            1           1  0.60  0.6212  0.53     0.3582      37   \n",
       "15080           1           1  0.64  0.6212  0.47     0.2537      48   \n",
       "6930            1           2  0.42  0.4242  0.58     0.1343      33   \n",
       "17343           0           1  0.28  0.2273  0.36     0.5821      47   \n",
       "11575           1           2  0.58  0.5455  0.83     0.2239      35   \n",
       "\n",
       "       registered  cnt  time_label  \n",
       "7518          176  213           3  \n",
       "15080         257  305           2  \n",
       "6930          189  222           1  \n",
       "17343          97  144           1  \n",
       "11575         210  245           1  "
      ]
     },
     "execution_count": 210,
     "metadata": {},
     "output_type": "execute_result"
    }
   ],
   "source": [
    "test.head()"
   ]
  },
  {
   "cell_type": "markdown",
   "metadata": {},
   "source": [
    "Next, we will use dummies for categorical variables, and see if we can have some improvements"
   ]
  },
  {
   "cell_type": "code",
   "execution_count": 211,
   "metadata": {},
   "outputs": [],
   "source": [
    "cate = [\"time_label\", \"yr\", \"season\", \"weathersit\", \"mnth\"]"
   ]
  },
  {
   "cell_type": "code",
   "execution_count": 212,
   "metadata": {},
   "outputs": [],
   "source": [
    "train_cate = train.copy()\n",
    "test_cate = test.copy()"
   ]
  },
  {
   "cell_type": "code",
   "execution_count": 213,
   "metadata": {},
   "outputs": [],
   "source": [
    "train_dummies = pd.get_dummies(train_cate, prefix = cate, columns = cate)\n",
    "test_dummies = pd.get_dummies(test_cate, prefix = cate, columns = cate)\n",
    "\n",
    "\n",
    "    "
   ]
  },
  {
   "cell_type": "code",
   "execution_count": 214,
   "metadata": {},
   "outputs": [],
   "source": [
    "columns_cate = train_dummies.columns"
   ]
  },
  {
   "cell_type": "code",
   "execution_count": 215,
   "metadata": {},
   "outputs": [],
   "source": [
    "columns_cate = columns_cate.drop([\"instant\", \"dteday\", \"hr\", \"holiday\", \"weekday\", \"workingday\", \"temp\", \"casual\", \"registered\", \"cnt\", \"weathersit_4\"])\n"
   ]
  },
  {
   "cell_type": "code",
   "execution_count": 216,
   "metadata": {},
   "outputs": [
    {
     "data": {
      "text/plain": [
       "Index(['atemp', 'hum', 'windspeed', 'time_label_1', 'time_label_2',\n",
       "       'time_label_3', 'time_label_4', 'yr_0', 'yr_1', 'season_1', 'season_2',\n",
       "       'season_3', 'season_4', 'weathersit_1', 'weathersit_2', 'weathersit_3',\n",
       "       'mnth_1', 'mnth_2', 'mnth_3', 'mnth_4', 'mnth_5', 'mnth_6', 'mnth_7',\n",
       "       'mnth_8', 'mnth_9', 'mnth_10', 'mnth_11', 'mnth_12'],\n",
       "      dtype='object')"
      ]
     },
     "execution_count": 216,
     "metadata": {},
     "output_type": "execute_result"
    }
   ],
   "source": [
    "columns_cate"
   ]
  },
  {
   "cell_type": "markdown",
   "metadata": {},
   "source": [
    "Now, we fit a second regression with dummies"
   ]
  },
  {
   "cell_type": "code",
   "execution_count": 217,
   "metadata": {},
   "outputs": [],
   "source": [
    "model2 = LinearRegression()\n",
    "model2.fit(train_dummies[columns_cate], train_dummies[\"cnt\"])\n",
    "prediction2 = model2.predict(test_dummies[columns_cate])"
   ]
  },
  {
   "cell_type": "code",
   "execution_count": 218,
   "metadata": {},
   "outputs": [
    {
     "data": {
      "text/html": [
       "<div>\n",
       "<style scoped>\n",
       "    .dataframe tbody tr th:only-of-type {\n",
       "        vertical-align: middle;\n",
       "    }\n",
       "\n",
       "    .dataframe tbody tr th {\n",
       "        vertical-align: top;\n",
       "    }\n",
       "\n",
       "    .dataframe thead th {\n",
       "        text-align: right;\n",
       "    }\n",
       "</style>\n",
       "<table border=\"1\" class=\"dataframe\">\n",
       "  <thead>\n",
       "    <tr style=\"text-align: right;\">\n",
       "      <th></th>\n",
       "      <th>instant</th>\n",
       "      <th>dteday</th>\n",
       "      <th>season</th>\n",
       "      <th>yr</th>\n",
       "      <th>mnth</th>\n",
       "      <th>hr</th>\n",
       "      <th>holiday</th>\n",
       "      <th>weekday</th>\n",
       "      <th>workingday</th>\n",
       "      <th>weathersit</th>\n",
       "      <th>temp</th>\n",
       "      <th>atemp</th>\n",
       "      <th>hum</th>\n",
       "      <th>windspeed</th>\n",
       "      <th>casual</th>\n",
       "      <th>registered</th>\n",
       "      <th>cnt</th>\n",
       "      <th>time_label</th>\n",
       "    </tr>\n",
       "  </thead>\n",
       "  <tbody>\n",
       "    <tr>\n",
       "      <th>7518</th>\n",
       "      <td>7519</td>\n",
       "      <td>2011-11-14</td>\n",
       "      <td>4</td>\n",
       "      <td>0</td>\n",
       "      <td>11</td>\n",
       "      <td>21</td>\n",
       "      <td>0</td>\n",
       "      <td>1</td>\n",
       "      <td>1</td>\n",
       "      <td>1</td>\n",
       "      <td>0.60</td>\n",
       "      <td>0.6212</td>\n",
       "      <td>0.53</td>\n",
       "      <td>0.3582</td>\n",
       "      <td>37</td>\n",
       "      <td>176</td>\n",
       "      <td>213</td>\n",
       "      <td>3</td>\n",
       "    </tr>\n",
       "    <tr>\n",
       "      <th>15080</th>\n",
       "      <td>15081</td>\n",
       "      <td>2012-09-25</td>\n",
       "      <td>4</td>\n",
       "      <td>1</td>\n",
       "      <td>9</td>\n",
       "      <td>13</td>\n",
       "      <td>0</td>\n",
       "      <td>2</td>\n",
       "      <td>1</td>\n",
       "      <td>1</td>\n",
       "      <td>0.64</td>\n",
       "      <td>0.6212</td>\n",
       "      <td>0.47</td>\n",
       "      <td>0.2537</td>\n",
       "      <td>48</td>\n",
       "      <td>257</td>\n",
       "      <td>305</td>\n",
       "      <td>2</td>\n",
       "    </tr>\n",
       "    <tr>\n",
       "      <th>6930</th>\n",
       "      <td>6931</td>\n",
       "      <td>2011-10-21</td>\n",
       "      <td>4</td>\n",
       "      <td>0</td>\n",
       "      <td>10</td>\n",
       "      <td>9</td>\n",
       "      <td>0</td>\n",
       "      <td>5</td>\n",
       "      <td>1</td>\n",
       "      <td>2</td>\n",
       "      <td>0.42</td>\n",
       "      <td>0.4242</td>\n",
       "      <td>0.58</td>\n",
       "      <td>0.1343</td>\n",
       "      <td>33</td>\n",
       "      <td>189</td>\n",
       "      <td>222</td>\n",
       "      <td>1</td>\n",
       "    </tr>\n",
       "    <tr>\n",
       "      <th>17343</th>\n",
       "      <td>17344</td>\n",
       "      <td>2012-12-30</td>\n",
       "      <td>1</td>\n",
       "      <td>1</td>\n",
       "      <td>12</td>\n",
       "      <td>12</td>\n",
       "      <td>0</td>\n",
       "      <td>0</td>\n",
       "      <td>0</td>\n",
       "      <td>1</td>\n",
       "      <td>0.28</td>\n",
       "      <td>0.2273</td>\n",
       "      <td>0.36</td>\n",
       "      <td>0.5821</td>\n",
       "      <td>47</td>\n",
       "      <td>97</td>\n",
       "      <td>144</td>\n",
       "      <td>1</td>\n",
       "    </tr>\n",
       "    <tr>\n",
       "      <th>11575</th>\n",
       "      <td>11576</td>\n",
       "      <td>2012-05-02</td>\n",
       "      <td>2</td>\n",
       "      <td>1</td>\n",
       "      <td>5</td>\n",
       "      <td>12</td>\n",
       "      <td>0</td>\n",
       "      <td>3</td>\n",
       "      <td>1</td>\n",
       "      <td>2</td>\n",
       "      <td>0.58</td>\n",
       "      <td>0.5455</td>\n",
       "      <td>0.83</td>\n",
       "      <td>0.2239</td>\n",
       "      <td>35</td>\n",
       "      <td>210</td>\n",
       "      <td>245</td>\n",
       "      <td>1</td>\n",
       "    </tr>\n",
       "  </tbody>\n",
       "</table>\n",
       "</div>"
      ],
      "text/plain": [
       "       instant      dteday  season  yr  mnth  hr  holiday  weekday  \\\n",
       "7518      7519  2011-11-14       4   0    11  21        0        1   \n",
       "15080    15081  2012-09-25       4   1     9  13        0        2   \n",
       "6930      6931  2011-10-21       4   0    10   9        0        5   \n",
       "17343    17344  2012-12-30       1   1    12  12        0        0   \n",
       "11575    11576  2012-05-02       2   1     5  12        0        3   \n",
       "\n",
       "       workingday  weathersit  temp   atemp   hum  windspeed  casual  \\\n",
       "7518            1           1  0.60  0.6212  0.53     0.3582      37   \n",
       "15080           1           1  0.64  0.6212  0.47     0.2537      48   \n",
       "6930            1           2  0.42  0.4242  0.58     0.1343      33   \n",
       "17343           0           1  0.28  0.2273  0.36     0.5821      47   \n",
       "11575           1           2  0.58  0.5455  0.83     0.2239      35   \n",
       "\n",
       "       registered  cnt  time_label  \n",
       "7518          176  213           3  \n",
       "15080         257  305           2  \n",
       "6930          189  222           1  \n",
       "17343          97  144           1  \n",
       "11575         210  245           1  "
      ]
     },
     "execution_count": 218,
     "metadata": {},
     "output_type": "execute_result"
    }
   ],
   "source": [
    "test.head(5)"
   ]
  },
  {
   "cell_type": "code",
   "execution_count": 219,
   "metadata": {},
   "outputs": [],
   "source": [
    "rme2 = math.sqrt(mean_squared_error(test[\"cnt\"], prediction2))"
   ]
  },
  {
   "cell_type": "code",
   "execution_count": 220,
   "metadata": {},
   "outputs": [],
   "source": [
    "rme[\"Regression_with_dummies\"] = rme2\n",
    "prediction[\"Regression_with_dummies\"] = prediction2"
   ]
  },
  {
   "cell_type": "markdown",
   "metadata": {},
   "source": [
    "Next, I would like to see if any numerical variables need any transformation"
   ]
  },
  {
   "cell_type": "code",
   "execution_count": 221,
   "metadata": {},
   "outputs": [
    {
     "data": {
      "text/plain": [
       "<matplotlib.collections.PathCollection at 0x7fe97ca94390>"
      ]
     },
     "execution_count": 221,
     "metadata": {},
     "output_type": "execute_result"
    },
    {
     "data": {
      "image/png": "[encoded data removed]",
      "text/plain": [
       "<Figure size 864x864 with 3 Axes>"
      ]
     },
     "metadata": {
      "needs_background": "light"
     },
     "output_type": "display_data"
    }
   ],
   "source": [
    "## plot y vs numerical variables\n",
    "\n",
    "fig = plt.figure(figsize = (12,12))\n",
    "axe1 = fig.add_subplot(4,1,1)\n",
    "axe2 = fig.add_subplot(4,1,2)\n",
    "axe3 = fig.add_subplot(4,1,3)\n",
    "axe1.scatter(train[\"atemp\"], train[\"cnt\"])\n",
    "axe2.scatter(train[\"hum\"], train[\"cnt\"])\n",
    "axe3.scatter(train[\"windspeed\"], train[\"cnt\"])\n",
    "\n"
   ]
  },
  {
   "cell_type": "code",
   "execution_count": 310,
   "metadata": {},
   "outputs": [
    {
     "data": {
      "text/plain": [
       "(array([5567., 2966., 2140., 1318.,  790.,  530.,  291.,  154.,  117.,\n",
       "          30.]),\n",
       " array([  1. ,  98.6, 196.2, 293.8, 391.4, 489. , 586.6, 684.2, 781.8,\n",
       "        879.4, 977. ]),\n",
       " <a list of 10 Patch objects>)"
      ]
     },
     "execution_count": 310,
     "metadata": {},
     "output_type": "execute_result"
    },
    {
     "data": {
      "image/png": "[encoded data removed]",
      "text/plain": [
       "<Figure size 432x288 with 1 Axes>"
      ]
     },
     "metadata": {
      "needs_background": "light"
     },
     "output_type": "display_data"
    }
   ],
   "source": [
    "plt.hist(train[\"cnt\"])\n"
   ]
  },
  {
   "cell_type": "code",
   "execution_count": 311,
   "metadata": {},
   "outputs": [
    {
     "data": {
      "text/plain": [
       "(array([ 131.,  351.,  747.,  821., 1032., 1258., 2021., 3411., 3022.,\n",
       "        1109.]),\n",
       " array([0.        , 0.68844867, 1.37689733, 2.065346  , 2.75379466,\n",
       "        3.44224333, 4.13069199, 4.81914066, 5.50758932, 6.19603799,\n",
       "        6.88448665]),\n",
       " <a list of 10 Patch objects>)"
      ]
     },
     "execution_count": 311,
     "metadata": {},
     "output_type": "execute_result"
    },
    {
     "data": {
      "image/png": "[encoded data removed]",
      "text/plain": [
       "<Figure size 432x288 with 1 Axes>"
      ]
     },
     "metadata": {
      "needs_background": "light"
     },
     "output_type": "display_data"
    }
   ],
   "source": [
    "plt.hist(np.log(train[\"cnt\"]))"
   ]
  },
  {
   "cell_type": "markdown",
   "metadata": {},
   "source": [
    "There seems to be no need to transform x, but y seems to be very skewed, and log it should help"
   ]
  },
  {
   "cell_type": "code",
   "execution_count": 224,
   "metadata": {},
   "outputs": [],
   "source": [
    "train_dummies[\"log_cnt\"] = np.log(train_dummies[\"cnt\"])\n",
    "test_dummies[\"log_cnt\"] = np.log(test_dummies[\"cnt\"])"
   ]
  },
  {
   "cell_type": "code",
   "execution_count": 225,
   "metadata": {},
   "outputs": [],
   "source": [
    "# fit on log_cnt, and exponentiate predictions \n",
    "\n",
    "model3 = LinearRegression()\n",
    "model3.fit(train_dummies[columns_cate], train_dummies[\"log_cnt\"])\n",
    "pred = model3.predict(test_dummies[columns_cate])\n",
    "prediction3 = np.exp(pred)"
   ]
  },
  {
   "cell_type": "code",
   "execution_count": 226,
   "metadata": {},
   "outputs": [],
   "source": [
    "rme[\"Regression_log_cnt\"] = math.sqrt(mean_squared_error(test[\"cnt\"], prediction3))\n",
    "prediction[\"Regression_log_cnt\"] = prediction3"
   ]
  },
  {
   "cell_type": "code",
   "execution_count": 227,
   "metadata": {},
   "outputs": [
    {
     "data": {
      "text/plain": [
       "{'LinearReg': 131.36931469548472,\n",
       " 'Regression_with_dummies': 119.64630295503792,\n",
       " 'Regression_log_cnt': 120.11659336066317}"
      ]
     },
     "execution_count": 227,
     "metadata": {},
     "output_type": "execute_result"
    }
   ],
   "source": [
    "rme"
   ]
  },
  {
   "cell_type": "markdown",
   "metadata": {},
   "source": [
    "Log(y) seems like not a huge improvement, so now we can try trees"
   ]
  },
  {
   "cell_type": "code",
   "execution_count": 228,
   "metadata": {},
   "outputs": [],
   "source": [
    "model4 = DecisionTreeRegressor()\n",
    "model4.fit(train[columns], train[\"cnt\"])\n",
    "prediction4 = model4.predict(test[columns])"
   ]
  },
  {
   "cell_type": "code",
   "execution_count": 229,
   "metadata": {},
   "outputs": [],
   "source": [
    "rme[\"Full_tree\"] = math.sqrt(mean_squared_error(test[\"cnt\"], prediction4))\n",
    "prediction[\"Full_tree\"] = prediction4\n"
   ]
  },
  {
   "cell_type": "code",
   "execution_count": 230,
   "metadata": {},
   "outputs": [],
   "source": [
    "## check if it's overfitting (training error vs testing error)\n",
    "train_pred = model4.predict(train[columns])\n",
    "train_rme = math.sqrt(mean_squared_error(train[\"cnt\"], train_pred))\n"
   ]
  },
  {
   "cell_type": "code",
   "execution_count": 231,
   "metadata": {},
   "outputs": [
    {
     "name": "stdout",
     "output_type": "stream",
     "text": [
      "training rme is 22.160314289889346\n",
      "testing rme is 146.14166408566376\n"
     ]
    }
   ],
   "source": [
    "print(\"training rme is \" + str(train_rme))\n",
    "print(\"testing rme is \" + str(rme[\"Full_tree\"]))"
   ]
  },
  {
   "cell_type": "markdown",
   "metadata": {},
   "source": [
    "It's clearly overfitting, so let's try to tune the model so it performs better on test set"
   ]
  },
  {
   "cell_type": "code",
   "execution_count": 232,
   "metadata": {},
   "outputs": [],
   "source": [
    "def gridsearch(min_samples_leaf, max_depth):\n",
    "    model = DecisionTreeRegressor(max_depth = max_depth, min_samples_leaf = min_samples_leaf)\n",
    "    model.fit(train[columns], train[\"cnt\"])\n",
    "    test_pred = model.predict(test[columns])\n",
    "    test_rme = math.sqrt(mean_squared_error(test[\"cnt\"], test_pred))\n",
    "\n",
    "### check training and testing error again\n",
    "    train_pred = model.predict(train[columns])\n",
    "    train_rme = math.sqrt(mean_squared_error(train[\"cnt\"], train_pred))\n",
    "\n",
    "    print( \"min samples = \" + str(min_samples_leaf) + \", max depth = \" +str(max_depth) +\", training rme is \" + str(round(train_rme,2)) + \", testing rme is \" + str(round(test_rme,2)))\n",
    "\n",
    "    "
   ]
  },
  {
   "cell_type": "code",
   "execution_count": 233,
   "metadata": {},
   "outputs": [
    {
     "name": "stdout",
     "output_type": "stream",
     "text": [
      "min samples = 20, max depth = 5, training rme is 117.75, testing rme is 117.36\n",
      "min samples = 20, max depth = 10, training rme is 106.52, testing rme is 112.17\n",
      "min samples = 20, max depth = 15, training rme is 103.36, testing rme is 113.0\n",
      "min samples = 20, max depth = 20, training rme is 103.01, testing rme is 113.01\n",
      "min samples = 20, max depth = 25, training rme is 103.01, testing rme is 113.01\n",
      "min samples = 50, max depth = 5, training rme is 117.75, testing rme is 117.36\n",
      "min samples = 50, max depth = 10, training rme is 109.0, testing rme is 112.41\n",
      "min samples = 50, max depth = 15, training rme is 108.31, testing rme is 112.5\n",
      "min samples = 50, max depth = 20, training rme is 108.31, testing rme is 112.5\n",
      "min samples = 50, max depth = 25, training rme is 108.31, testing rme is 112.5\n",
      "min samples = 80, max depth = 5, training rme is 117.75, testing rme is 117.37\n",
      "min samples = 80, max depth = 10, training rme is 110.65, testing rme is 112.88\n",
      "min samples = 80, max depth = 15, training rme is 110.44, testing rme is 112.97\n",
      "min samples = 80, max depth = 20, training rme is 110.44, testing rme is 112.97\n",
      "min samples = 80, max depth = 25, training rme is 110.44, testing rme is 112.97\n",
      "min samples = 110, max depth = 5, training rme is 117.75, testing rme is 117.36\n",
      "min samples = 110, max depth = 10, training rme is 111.68, testing rme is 112.87\n",
      "min samples = 110, max depth = 15, training rme is 111.61, testing rme is 112.8\n",
      "min samples = 110, max depth = 20, training rme is 111.61, testing rme is 112.8\n",
      "min samples = 110, max depth = 25, training rme is 111.61, testing rme is 112.8\n",
      "min samples = 140, max depth = 5, training rme is 117.75, testing rme is 117.35\n",
      "min samples = 140, max depth = 10, training rme is 112.79, testing rme is 113.02\n",
      "min samples = 140, max depth = 15, training rme is 112.78, testing rme is 113.11\n",
      "min samples = 140, max depth = 20, training rme is 112.78, testing rme is 113.11\n",
      "min samples = 140, max depth = 25, training rme is 112.78, testing rme is 113.11\n",
      "min samples = 170, max depth = 5, training rme is 117.77, testing rme is 117.42\n",
      "min samples = 170, max depth = 10, training rme is 113.41, testing rme is 113.79\n",
      "min samples = 170, max depth = 15, training rme is 113.41, testing rme is 113.79\n",
      "min samples = 170, max depth = 20, training rme is 113.41, testing rme is 113.79\n",
      "min samples = 170, max depth = 25, training rme is 113.41, testing rme is 113.79\n"
     ]
    }
   ],
   "source": [
    "for i in range(20, 200, 30):\n",
    "    for j in range (5, 30, 5):\n",
    "        gridsearch(min_samples_leaf = i, max_depth = j)"
   ]
  },
  {
   "cell_type": "markdown",
   "metadata": {},
   "source": [
    "It seems like best value is min samples per leaf = 50, and max depth of the tree is 15, so let's do that"
   ]
  },
  {
   "cell_type": "code",
   "execution_count": 234,
   "metadata": {},
   "outputs": [],
   "source": [
    "model5 = DecisionTreeRegressor(max_depth = 15, min_samples_leaf = 50)\n",
    "model5.fit(train[columns], train[\"cnt\"])\n",
    "prediction5 = model5.predict(test[columns])\n",
    "rme [\"Tuned_tree\"] = math.sqrt(mean_squared_error(test[\"cnt\"], prediction5))\n",
    "prediction[\"Tuned_tree\"] = prediction5"
   ]
  },
  {
   "cell_type": "markdown",
   "metadata": {},
   "source": [
    "Next, let's try random forest!"
   ]
  },
  {
   "cell_type": "code",
   "execution_count": 235,
   "metadata": {},
   "outputs": [],
   "source": [
    "model6 = RandomForestRegressor(n_estimators = 2000, max_depth = 15, min_samples_leaf = 50)\n",
    "model6.fit(train[columns], train[\"cnt\"])\n",
    "prediction6 = model6.predict(test[columns])\n",
    "rme [\"random_forest\"] = math.sqrt(mean_squared_error(test[\"cnt\"], prediction6))\n",
    "prediction[\"random_forest\"] = prediction6\n"
   ]
  },
  {
   "cell_type": "code",
   "execution_count": 236,
   "metadata": {},
   "outputs": [
    {
     "data": {
      "text/plain": [
       "{'LinearReg': 131.36931469548472,\n",
       " 'Regression_with_dummies': 119.64630295503792,\n",
       " 'Regression_log_cnt': 120.11659336066317,\n",
       " 'Full_tree': 146.14166408566376,\n",
       " 'Tuned_tree': 112.50164666774883,\n",
       " 'random_forest': 110.721216819472}"
      ]
     },
     "execution_count": 236,
     "metadata": {},
     "output_type": "execute_result"
    }
   ],
   "source": [
    "rme"
   ]
  },
  {
   "cell_type": "code",
   "execution_count": 237,
   "metadata": {},
   "outputs": [
    {
     "data": {
      "text/plain": [
       "108.20724593499122"
      ]
     },
     "execution_count": 237,
     "metadata": {},
     "output_type": "execute_result"
    }
   ],
   "source": [
    "# check if random forest is overfitting\n",
    "\n",
    "train_pred = model6.predict(train[columns])\n",
    "train_rme = math.sqrt(mean_squared_error(train[\"cnt\"], train_pred))\n",
    "\n",
    "train_rme\n"
   ]
  },
  {
   "cell_type": "markdown",
   "metadata": {},
   "source": [
    "We are done! We will use the predictions given by random forest (prediction6). Finally, let's calculate the mean absolute error to see how much we are off on average!"
   ]
  },
  {
   "cell_type": "code",
   "execution_count": 238,
   "metadata": {},
   "outputs": [
    {
     "name": "stdout",
     "output_type": "stream",
     "text": [
      "78.96\n"
     ]
    }
   ],
   "source": [
    "print(round(mean_absolute_error(test[\"cnt\"], prediction[\"random_forest\"]),2))"
   ]
  },
  {
   "cell_type": "code",
   "execution_count": 239,
   "metadata": {},
   "outputs": [],
   "source": [
    "test.reset_index(inplace = True)\n"
   ]
  },
  {
   "cell_type": "code",
   "execution_count": 308,
   "metadata": {},
   "outputs": [
    {
     "data": {
      "text/html": [
       "<div>\n",
       "<style scoped>\n",
       "    .dataframe tbody tr th:only-of-type {\n",
       "        vertical-align: middle;\n",
       "    }\n",
       "\n",
       "    .dataframe tbody tr th {\n",
       "        vertical-align: top;\n",
       "    }\n",
       "\n",
       "    .dataframe thead th {\n",
       "        text-align: right;\n",
       "    }\n",
       "</style>\n",
       "<table border=\"1\" class=\"dataframe\">\n",
       "  <thead>\n",
       "    <tr style=\"text-align: right;\">\n",
       "      <th></th>\n",
       "      <th>index</th>\n",
       "      <th>instant</th>\n",
       "      <th>dteday</th>\n",
       "      <th>season</th>\n",
       "      <th>yr</th>\n",
       "      <th>mnth</th>\n",
       "      <th>hr</th>\n",
       "      <th>holiday</th>\n",
       "      <th>weekday</th>\n",
       "      <th>workingday</th>\n",
       "      <th>weathersit</th>\n",
       "      <th>temp</th>\n",
       "      <th>atemp</th>\n",
       "      <th>hum</th>\n",
       "      <th>windspeed</th>\n",
       "      <th>casual</th>\n",
       "      <th>registered</th>\n",
       "      <th>cnt</th>\n",
       "      <th>time_label</th>\n",
       "      <th>prediction</th>\n",
       "    </tr>\n",
       "  </thead>\n",
       "  <tbody>\n",
       "    <tr>\n",
       "      <th>0</th>\n",
       "      <td>7518</td>\n",
       "      <td>7519</td>\n",
       "      <td>2011-11-14</td>\n",
       "      <td>4</td>\n",
       "      <td>0</td>\n",
       "      <td>11</td>\n",
       "      <td>21</td>\n",
       "      <td>0</td>\n",
       "      <td>1</td>\n",
       "      <td>1</td>\n",
       "      <td>1</td>\n",
       "      <td>0.60</td>\n",
       "      <td>0.6212</td>\n",
       "      <td>0.53</td>\n",
       "      <td>0.3582</td>\n",
       "      <td>37</td>\n",
       "      <td>176</td>\n",
       "      <td>213</td>\n",
       "      <td>3</td>\n",
       "      <td>231.0</td>\n",
       "    </tr>\n",
       "    <tr>\n",
       "      <th>1</th>\n",
       "      <td>15080</td>\n",
       "      <td>15081</td>\n",
       "      <td>2012-09-25</td>\n",
       "      <td>4</td>\n",
       "      <td>1</td>\n",
       "      <td>9</td>\n",
       "      <td>13</td>\n",
       "      <td>0</td>\n",
       "      <td>2</td>\n",
       "      <td>1</td>\n",
       "      <td>1</td>\n",
       "      <td>0.64</td>\n",
       "      <td>0.6212</td>\n",
       "      <td>0.47</td>\n",
       "      <td>0.2537</td>\n",
       "      <td>48</td>\n",
       "      <td>257</td>\n",
       "      <td>305</td>\n",
       "      <td>2</td>\n",
       "      <td>596.0</td>\n",
       "    </tr>\n",
       "    <tr>\n",
       "      <th>2</th>\n",
       "      <td>6930</td>\n",
       "      <td>6931</td>\n",
       "      <td>2011-10-21</td>\n",
       "      <td>4</td>\n",
       "      <td>0</td>\n",
       "      <td>10</td>\n",
       "      <td>9</td>\n",
       "      <td>0</td>\n",
       "      <td>5</td>\n",
       "      <td>1</td>\n",
       "      <td>2</td>\n",
       "      <td>0.42</td>\n",
       "      <td>0.4242</td>\n",
       "      <td>0.58</td>\n",
       "      <td>0.1343</td>\n",
       "      <td>33</td>\n",
       "      <td>189</td>\n",
       "      <td>222</td>\n",
       "      <td>1</td>\n",
       "      <td>209.0</td>\n",
       "    </tr>\n",
       "    <tr>\n",
       "      <th>3</th>\n",
       "      <td>17343</td>\n",
       "      <td>17344</td>\n",
       "      <td>2012-12-30</td>\n",
       "      <td>1</td>\n",
       "      <td>1</td>\n",
       "      <td>12</td>\n",
       "      <td>12</td>\n",
       "      <td>0</td>\n",
       "      <td>0</td>\n",
       "      <td>0</td>\n",
       "      <td>1</td>\n",
       "      <td>0.28</td>\n",
       "      <td>0.2273</td>\n",
       "      <td>0.36</td>\n",
       "      <td>0.5821</td>\n",
       "      <td>47</td>\n",
       "      <td>97</td>\n",
       "      <td>144</td>\n",
       "      <td>1</td>\n",
       "      <td>156.0</td>\n",
       "    </tr>\n",
       "    <tr>\n",
       "      <th>4</th>\n",
       "      <td>11575</td>\n",
       "      <td>11576</td>\n",
       "      <td>2012-05-02</td>\n",
       "      <td>2</td>\n",
       "      <td>1</td>\n",
       "      <td>5</td>\n",
       "      <td>12</td>\n",
       "      <td>0</td>\n",
       "      <td>3</td>\n",
       "      <td>1</td>\n",
       "      <td>2</td>\n",
       "      <td>0.58</td>\n",
       "      <td>0.5455</td>\n",
       "      <td>0.83</td>\n",
       "      <td>0.2239</td>\n",
       "      <td>35</td>\n",
       "      <td>210</td>\n",
       "      <td>245</td>\n",
       "      <td>1</td>\n",
       "      <td>295.0</td>\n",
       "    </tr>\n",
       "  </tbody>\n",
       "</table>\n",
       "</div>"
      ],
      "text/plain": [
       "   index  instant      dteday  season  yr  mnth  hr  holiday  weekday  \\\n",
       "0   7518     7519  2011-11-14       4   0    11  21        0        1   \n",
       "1  15080    15081  2012-09-25       4   1     9  13        0        2   \n",
       "2   6930     6931  2011-10-21       4   0    10   9        0        5   \n",
       "3  17343    17344  2012-12-30       1   1    12  12        0        0   \n",
       "4  11575    11576  2012-05-02       2   1     5  12        0        3   \n",
       "\n",
       "   workingday  weathersit  temp   atemp   hum  windspeed  casual  registered  \\\n",
       "0           1           1  0.60  0.6212  0.53     0.3582      37         176   \n",
       "1           1           1  0.64  0.6212  0.47     0.2537      48         257   \n",
       "2           1           2  0.42  0.4242  0.58     0.1343      33         189   \n",
       "3           0           1  0.28  0.2273  0.36     0.5821      47          97   \n",
       "4           1           2  0.58  0.5455  0.83     0.2239      35         210   \n",
       "\n",
       "   cnt  time_label  prediction  \n",
       "0  213           3       231.0  \n",
       "1  305           2       596.0  \n",
       "2  222           1       209.0  \n",
       "3  144           1       156.0  \n",
       "4  245           1       295.0  "
      ]
     },
     "execution_count": 308,
     "metadata": {},
     "output_type": "execute_result"
    }
   ],
   "source": [
    "report = pd.concat([test, round(pd.DataFrame(prediction[\"random_forest\"]))], axis = 1)\n",
    "report.rename(columns = {0: \"prediction\"}, inplace = True)\n",
    "report.head()"
   ]
  },
  {
   "cell_type": "markdown",
   "metadata": {},
   "source": [
    "Visualizations to figure out where our predictions are not accurate"
   ]
  },
  {
   "cell_type": "code",
   "execution_count": 291,
   "metadata": {},
   "outputs": [
    {
     "data": {
      "image/png": "[encoded data removed]",
      "text/plain": [
       "<Figure size 432x288 with 1 Axes>"
      ]
     },
     "metadata": {
      "needs_background": "light"
     },
     "output_type": "display_data"
    }
   ],
   "source": [
    "g = sns.distplot(report[\"cnt\"])\n",
    "g= sns.distplot(report[\"prediction\"], color = \"r\")"
   ]
  },
  {
   "cell_type": "markdown",
   "metadata": {},
   "source": [
    "It seems like our prediction is over-predicting in the middle range (50-200), and under-predicting toward the higher range(400-800). We can further group the data by variables to see if we can discover additional pattern."
   ]
  },
  {
   "cell_type": "code",
   "execution_count": 297,
   "metadata": {},
   "outputs": [
    {
     "data": {
      "image/png": "[encoded data removed]",
      "text/plain": [
       "<Figure size 864x432 with 8 Axes>"
      ]
     },
     "metadata": {
      "needs_background": "light"
     },
     "output_type": "display_data"
    }
   ],
   "source": [
    "g= sns.FacetGrid(report, col = \"season\", row = \"yr\")\n",
    "g= g.map(sns.distplot, \"cnt\")\n",
    "g = g.map(sns.distplot, \"prediction\", color = \"red\")\n",
    "g= g.set_xlabels(\"cnt\")\n",
    "\n"
   ]
  },
  {
   "cell_type": "code",
   "execution_count": 298,
   "metadata": {},
   "outputs": [
    {
     "data": {
      "image/png": "[encoded data removed]",
      "text/plain": [
       "<Figure size 648x216 with 3 Axes>"
      ]
     },
     "metadata": {
      "needs_background": "light"
     },
     "output_type": "display_data"
    }
   ],
   "source": [
    "g= sns.FacetGrid(report, col = \"weathersit\")\n",
    "g= g.map(sns.distplot, \"cnt\")\n",
    "g = g.map(sns.distplot, \"prediction\", color = \"red\")\n",
    "g= g.set_xlabels(\"cnt\")"
   ]
  },
  {
   "cell_type": "markdown",
   "metadata": {},
   "source": [
    "It seems like the problem is mostly with season 3 and wheathersit 3, where our prediction is clearly overshooting. "
   ]
  },
  {
   "cell_type": "code",
   "execution_count": null,
   "metadata": {},
   "outputs": [],
   "source": []
  }
 ],
 "metadata": {
  "kernelspec": {
   "display_name": "Python 3",
   "language": "python",
   "name": "python3"
  },
  "language_info": {
   "codemirror_mode": {
    "name": "ipython",
    "version": 3
   },
   "file_extension": ".py",
   "mimetype": "text/x-python",
   "name": "python",
   "nbconvert_exporter": "python",
   "pygments_lexer": "ipython3",
   "version": "3.7.6"
  }
 },
 "nbformat": 4,
 "nbformat_minor": 1
}
