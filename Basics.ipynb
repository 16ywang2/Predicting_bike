{
 "cells": [
  {
   "cell_type": "code",
   "execution_count": 329,
   "metadata": {
    "collapsed": false
   },
   "outputs": [],
   "source": [
    "import pandas as pd\n",
    "import numpy as np\n",
    "import matplotlib.pyplot as plt\n",
    "from sklearn.linear_model import LinearRegression\n",
    "from sklearn.metrics import mean_squared_error\n",
    "from sklearn.metrics import mean_absolute_error\n",
    "from sklearn.tree import DecisionTreeRegressor\n",
    "from sklearn.ensemble import RandomForestRegressor\n",
    "import random\n",
    "import math\n"
   ]
  },
  {
   "cell_type": "code",
   "execution_count": 330,
   "metadata": {
    "collapsed": true
   },
   "outputs": [],
   "source": [
    "bike = pd.read_csv(\"bike_rental_hour.csv\")"
   ]
  },
  {
   "cell_type": "markdown",
   "metadata": {},
   "source": [
    "We do some eda first"
   ]
  },
  {
   "cell_type": "code",
   "execution_count": 331,
   "metadata": {
    "collapsed": false
   },
   "outputs": [
    {
     "data": {
      "text/html": [
       "<div>\n",
       "<style scoped>\n",
       "    .dataframe tbody tr th:only-of-type {\n",
       "        vertical-align: middle;\n",
       "    }\n",
       "\n",
       "    .dataframe tbody tr th {\n",
       "        vertical-align: top;\n",
       "    }\n",
       "\n",
       "    .dataframe thead th {\n",
       "        text-align: right;\n",
       "    }\n",
       "</style>\n",
       "<table border=\"1\" class=\"dataframe\">\n",
       "  <thead>\n",
       "    <tr style=\"text-align: right;\">\n",
       "      <th></th>\n",
       "      <th>instant</th>\n",
       "      <th>dteday</th>\n",
       "      <th>season</th>\n",
       "      <th>yr</th>\n",
       "      <th>mnth</th>\n",
       "      <th>hr</th>\n",
       "      <th>holiday</th>\n",
       "      <th>weekday</th>\n",
       "      <th>workingday</th>\n",
       "      <th>weathersit</th>\n",
       "      <th>temp</th>\n",
       "      <th>atemp</th>\n",
       "      <th>hum</th>\n",
       "      <th>windspeed</th>\n",
       "      <th>casual</th>\n",
       "      <th>registered</th>\n",
       "      <th>cnt</th>\n",
       "    </tr>\n",
       "  </thead>\n",
       "  <tbody>\n",
       "    <tr>\n",
       "      <th>0</th>\n",
       "      <td>1</td>\n",
       "      <td>2011-01-01</td>\n",
       "      <td>1</td>\n",
       "      <td>0</td>\n",
       "      <td>1</td>\n",
       "      <td>0</td>\n",
       "      <td>0</td>\n",
       "      <td>6</td>\n",
       "      <td>0</td>\n",
       "      <td>1</td>\n",
       "      <td>0.24</td>\n",
       "      <td>0.2879</td>\n",
       "      <td>0.81</td>\n",
       "      <td>0.0</td>\n",
       "      <td>3</td>\n",
       "      <td>13</td>\n",
       "      <td>16</td>\n",
       "    </tr>\n",
       "    <tr>\n",
       "      <th>1</th>\n",
       "      <td>2</td>\n",
       "      <td>2011-01-01</td>\n",
       "      <td>1</td>\n",
       "      <td>0</td>\n",
       "      <td>1</td>\n",
       "      <td>1</td>\n",
       "      <td>0</td>\n",
       "      <td>6</td>\n",
       "      <td>0</td>\n",
       "      <td>1</td>\n",
       "      <td>0.22</td>\n",
       "      <td>0.2727</td>\n",
       "      <td>0.80</td>\n",
       "      <td>0.0</td>\n",
       "      <td>8</td>\n",
       "      <td>32</td>\n",
       "      <td>40</td>\n",
       "    </tr>\n",
       "    <tr>\n",
       "      <th>2</th>\n",
       "      <td>3</td>\n",
       "      <td>2011-01-01</td>\n",
       "      <td>1</td>\n",
       "      <td>0</td>\n",
       "      <td>1</td>\n",
       "      <td>2</td>\n",
       "      <td>0</td>\n",
       "      <td>6</td>\n",
       "      <td>0</td>\n",
       "      <td>1</td>\n",
       "      <td>0.22</td>\n",
       "      <td>0.2727</td>\n",
       "      <td>0.80</td>\n",
       "      <td>0.0</td>\n",
       "      <td>5</td>\n",
       "      <td>27</td>\n",
       "      <td>32</td>\n",
       "    </tr>\n",
       "    <tr>\n",
       "      <th>3</th>\n",
       "      <td>4</td>\n",
       "      <td>2011-01-01</td>\n",
       "      <td>1</td>\n",
       "      <td>0</td>\n",
       "      <td>1</td>\n",
       "      <td>3</td>\n",
       "      <td>0</td>\n",
       "      <td>6</td>\n",
       "      <td>0</td>\n",
       "      <td>1</td>\n",
       "      <td>0.24</td>\n",
       "      <td>0.2879</td>\n",
       "      <td>0.75</td>\n",
       "      <td>0.0</td>\n",
       "      <td>3</td>\n",
       "      <td>10</td>\n",
       "      <td>13</td>\n",
       "    </tr>\n",
       "    <tr>\n",
       "      <th>4</th>\n",
       "      <td>5</td>\n",
       "      <td>2011-01-01</td>\n",
       "      <td>1</td>\n",
       "      <td>0</td>\n",
       "      <td>1</td>\n",
       "      <td>4</td>\n",
       "      <td>0</td>\n",
       "      <td>6</td>\n",
       "      <td>0</td>\n",
       "      <td>1</td>\n",
       "      <td>0.24</td>\n",
       "      <td>0.2879</td>\n",
       "      <td>0.75</td>\n",
       "      <td>0.0</td>\n",
       "      <td>0</td>\n",
       "      <td>1</td>\n",
       "      <td>1</td>\n",
       "    </tr>\n",
       "  </tbody>\n",
       "</table>\n",
       "</div>"
      ],
      "text/plain": [
       "   instant      dteday  season  yr  mnth  hr  holiday  weekday  workingday  \\\n",
       "0        1  2011-01-01       1   0     1   0        0        6           0   \n",
       "1        2  2011-01-01       1   0     1   1        0        6           0   \n",
       "2        3  2011-01-01       1   0     1   2        0        6           0   \n",
       "3        4  2011-01-01       1   0     1   3        0        6           0   \n",
       "4        5  2011-01-01       1   0     1   4        0        6           0   \n",
       "\n",
       "   weathersit  temp   atemp   hum  windspeed  casual  registered  cnt  \n",
       "0           1  0.24  0.2879  0.81        0.0       3          13   16  \n",
       "1           1  0.22  0.2727  0.80        0.0       8          32   40  \n",
       "2           1  0.22  0.2727  0.80        0.0       5          27   32  \n",
       "3           1  0.24  0.2879  0.75        0.0       3          10   13  \n",
       "4           1  0.24  0.2879  0.75        0.0       0           1    1  "
      ]
     },
     "execution_count": 331,
     "metadata": {},
     "output_type": "execute_result"
    }
   ],
   "source": [
    "bike.head()"
   ]
  },
  {
   "cell_type": "code",
   "execution_count": 332,
   "metadata": {
    "collapsed": false
   },
   "outputs": [
    {
     "data": {
      "text/plain": [
       "(array([6972., 3705., 2659., 1660.,  987.,  663.,  369.,  188.,  139.,\n",
       "          37.]),\n",
       " array([  1. ,  98.6, 196.2, 293.8, 391.4, 489. , 586.6, 684.2, 781.8,\n",
       "        879.4, 977. ]),\n",
       " <a list of 10 Patch objects>)"
      ]
     },
     "execution_count": 332,
     "metadata": {},
     "output_type": "execute_result"
    },
    {
     "data": {
      "image/png": "[encoded data removed]",
      "text/plain": [
       "<matplotlib.figure.Figure at 0x7f9e21981dd8>"
      ]
     },
     "metadata": {},
     "output_type": "display_data"
    }
   ],
   "source": [
    "%matplotlib inline\n",
    "plt.hist(bike['cnt'])"
   ]
  },
  {
   "cell_type": "markdown",
   "metadata": {},
   "source": [
    "Let's group hours into morning, afternoon..."
   ]
  },
  {
   "cell_type": "code",
   "execution_count": 333,
   "metadata": {
    "collapsed": true
   },
   "outputs": [],
   "source": [
    "def assign_label(hour):\n",
    "    if 6<hour<=12:\n",
    "        return 1\n",
    "    elif 12 < hour <= 18:\n",
    "        return 2\n",
    "    elif 18< hour <= 24:\n",
    "        return 3\n",
    "    else:\n",
    "        return 4"
   ]
  },
  {
   "cell_type": "code",
   "execution_count": 334,
   "metadata": {
    "collapsed": false
   },
   "outputs": [],
   "source": [
    "bike[\"time_label\"] = bike[\"hr\"].apply(assign_label)"
   ]
  },
  {
   "cell_type": "code",
   "execution_count": 335,
   "metadata": {
    "collapsed": false
   },
   "outputs": [],
   "source": [
    "cor_df = bike.corr()"
   ]
  },
  {
   "cell_type": "code",
   "execution_count": 336,
   "metadata": {
    "collapsed": false
   },
   "outputs": [],
   "source": [
    "cnt_corr = abs(cor_df[\"cnt\"]).sort_values(ascending = False)"
   ]
  },
  {
   "cell_type": "code",
   "execution_count": 337,
   "metadata": {
    "collapsed": false
   },
   "outputs": [
    {
     "data": {
      "text/plain": [
       "cnt           1.000000\n",
       "registered    0.972151\n",
       "casual        0.694564\n",
       "time_label    0.494422\n",
       "temp          0.404772\n",
       "atemp         0.400929\n",
       "hr            0.394071\n",
       "hum           0.322911\n",
       "instant       0.278379\n",
       "yr            0.250495\n",
       "season        0.178056\n",
       "weathersit    0.142426\n",
       "mnth          0.120638\n",
       "windspeed     0.093234\n",
       "holiday       0.030927\n",
       "workingday    0.030284\n",
       "weekday       0.026900\n",
       "Name: cnt, dtype: float64"
      ]
     },
     "execution_count": 337,
     "metadata": {},
     "output_type": "execute_result"
    }
   ],
   "source": [
    "cnt_corr"
   ]
  },
  {
   "cell_type": "markdown",
   "metadata": {},
   "source": [
    "Splitting the data into training and test sets"
   ]
  },
  {
   "cell_type": "code",
   "execution_count": 338,
   "metadata": {
    "collapsed": false
   },
   "outputs": [
    {
     "data": {
      "text/plain": [
       "13903.2"
      ]
     },
     "execution_count": 338,
     "metadata": {},
     "output_type": "execute_result"
    }
   ],
   "source": [
    "bike.shape[0] * 0.8"
   ]
  },
  {
   "cell_type": "code",
   "execution_count": 339,
   "metadata": {
    "collapsed": true
   },
   "outputs": [],
   "source": [
    "random.seed(1)\n",
    "bike = bike.reindex(np.random.permutation(bike.shape[0]))"
   ]
  },
  {
   "cell_type": "code",
   "execution_count": 340,
   "metadata": {
    "collapsed": false
   },
   "outputs": [
    {
     "data": {
      "text/html": [
       "<div>\n",
       "<style scoped>\n",
       "    .dataframe tbody tr th:only-of-type {\n",
       "        vertical-align: middle;\n",
       "    }\n",
       "\n",
       "    .dataframe tbody tr th {\n",
       "        vertical-align: top;\n",
       "    }\n",
       "\n",
       "    .dataframe thead th {\n",
       "        text-align: right;\n",
       "    }\n",
       "</style>\n",
       "<table border=\"1\" class=\"dataframe\">\n",
       "  <thead>\n",
       "    <tr style=\"text-align: right;\">\n",
       "      <th></th>\n",
       "      <th>instant</th>\n",
       "      <th>dteday</th>\n",
       "      <th>season</th>\n",
       "      <th>yr</th>\n",
       "      <th>mnth</th>\n",
       "      <th>hr</th>\n",
       "      <th>holiday</th>\n",
       "      <th>weekday</th>\n",
       "      <th>workingday</th>\n",
       "      <th>weathersit</th>\n",
       "      <th>temp</th>\n",
       "      <th>atemp</th>\n",
       "      <th>hum</th>\n",
       "      <th>windspeed</th>\n",
       "      <th>casual</th>\n",
       "      <th>registered</th>\n",
       "      <th>cnt</th>\n",
       "      <th>time_label</th>\n",
       "    </tr>\n",
       "  </thead>\n",
       "  <tbody>\n",
       "    <tr>\n",
       "      <th>10803</th>\n",
       "      <td>10804</td>\n",
       "      <td>2012-03-31</td>\n",
       "      <td>2</td>\n",
       "      <td>1</td>\n",
       "      <td>3</td>\n",
       "      <td>6</td>\n",
       "      <td>0</td>\n",
       "      <td>6</td>\n",
       "      <td>0</td>\n",
       "      <td>2</td>\n",
       "      <td>0.36</td>\n",
       "      <td>0.3485</td>\n",
       "      <td>0.87</td>\n",
       "      <td>0.1642</td>\n",
       "      <td>7</td>\n",
       "      <td>16</td>\n",
       "      <td>23</td>\n",
       "      <td>4</td>\n",
       "    </tr>\n",
       "    <tr>\n",
       "      <th>11940</th>\n",
       "      <td>11941</td>\n",
       "      <td>2012-05-17</td>\n",
       "      <td>2</td>\n",
       "      <td>1</td>\n",
       "      <td>5</td>\n",
       "      <td>17</td>\n",
       "      <td>0</td>\n",
       "      <td>4</td>\n",
       "      <td>1</td>\n",
       "      <td>1</td>\n",
       "      <td>0.66</td>\n",
       "      <td>0.6212</td>\n",
       "      <td>0.31</td>\n",
       "      <td>0.1343</td>\n",
       "      <td>133</td>\n",
       "      <td>719</td>\n",
       "      <td>852</td>\n",
       "      <td>2</td>\n",
       "    </tr>\n",
       "    <tr>\n",
       "      <th>15347</th>\n",
       "      <td>15348</td>\n",
       "      <td>2012-10-06</td>\n",
       "      <td>4</td>\n",
       "      <td>1</td>\n",
       "      <td>10</td>\n",
       "      <td>16</td>\n",
       "      <td>0</td>\n",
       "      <td>6</td>\n",
       "      <td>0</td>\n",
       "      <td>1</td>\n",
       "      <td>0.60</td>\n",
       "      <td>0.6212</td>\n",
       "      <td>0.43</td>\n",
       "      <td>0.5224</td>\n",
       "      <td>317</td>\n",
       "      <td>342</td>\n",
       "      <td>659</td>\n",
       "      <td>2</td>\n",
       "    </tr>\n",
       "    <tr>\n",
       "      <th>14322</th>\n",
       "      <td>14323</td>\n",
       "      <td>2012-08-24</td>\n",
       "      <td>3</td>\n",
       "      <td>1</td>\n",
       "      <td>8</td>\n",
       "      <td>23</td>\n",
       "      <td>0</td>\n",
       "      <td>5</td>\n",
       "      <td>1</td>\n",
       "      <td>2</td>\n",
       "      <td>0.68</td>\n",
       "      <td>0.6364</td>\n",
       "      <td>0.69</td>\n",
       "      <td>0.0896</td>\n",
       "      <td>38</td>\n",
       "      <td>140</td>\n",
       "      <td>178</td>\n",
       "      <td>3</td>\n",
       "    </tr>\n",
       "    <tr>\n",
       "      <th>1399</th>\n",
       "      <td>1400</td>\n",
       "      <td>2011-03-03</td>\n",
       "      <td>1</td>\n",
       "      <td>0</td>\n",
       "      <td>3</td>\n",
       "      <td>14</td>\n",
       "      <td>0</td>\n",
       "      <td>4</td>\n",
       "      <td>1</td>\n",
       "      <td>1</td>\n",
       "      <td>0.24</td>\n",
       "      <td>0.2576</td>\n",
       "      <td>0.21</td>\n",
       "      <td>0.1045</td>\n",
       "      <td>18</td>\n",
       "      <td>60</td>\n",
       "      <td>78</td>\n",
       "      <td>2</td>\n",
       "    </tr>\n",
       "  </tbody>\n",
       "</table>\n",
       "</div>"
      ],
      "text/plain": [
       "       instant      dteday  season  yr  mnth  hr  holiday  weekday  \\\n",
       "10803    10804  2012-03-31       2   1     3   6        0        6   \n",
       "11940    11941  2012-05-17       2   1     5  17        0        4   \n",
       "15347    15348  2012-10-06       4   1    10  16        0        6   \n",
       "14322    14323  2012-08-24       3   1     8  23        0        5   \n",
       "1399      1400  2011-03-03       1   0     3  14        0        4   \n",
       "\n",
       "       workingday  weathersit  temp   atemp   hum  windspeed  casual  \\\n",
       "10803           0           2  0.36  0.3485  0.87     0.1642       7   \n",
       "11940           1           1  0.66  0.6212  0.31     0.1343     133   \n",
       "15347           0           1  0.60  0.6212  0.43     0.5224     317   \n",
       "14322           1           2  0.68  0.6364  0.69     0.0896      38   \n",
       "1399            1           1  0.24  0.2576  0.21     0.1045      18   \n",
       "\n",
       "       registered  cnt  time_label  \n",
       "10803          16   23           4  \n",
       "11940         719  852           2  \n",
       "15347         342  659           2  \n",
       "14322         140  178           3  \n",
       "1399           60   78           2  "
      ]
     },
     "execution_count": 340,
     "metadata": {},
     "output_type": "execute_result"
    }
   ],
   "source": [
    "bike.head()"
   ]
  },
  {
   "cell_type": "code",
   "execution_count": 341,
   "metadata": {
    "collapsed": true
   },
   "outputs": [],
   "source": [
    "train = bike.iloc[0:13903,]\n",
    "test = bike.iloc[13903:,]"
   ]
  },
  {
   "cell_type": "markdown",
   "metadata": {
    "collapsed": true
   },
   "source": [
    "Now we perform some basic variable selection and cleaning"
   ]
  },
  {
   "cell_type": "code",
   "execution_count": 342,
   "metadata": {
    "collapsed": false
   },
   "outputs": [],
   "source": [
    "## remove variables that have corr <0.05\n",
    "\n",
    "columns = cnt_corr[cnt_corr > 0.05].index\n",
    "\n",
    "## remove cnt, casual, registered, instant\n",
    "\n",
    "columns = columns.drop([\"cnt\", \"registered\", \"casual\", \"instant\"])\n",
    "\n",
    "## remove temp as we have atemp, also removing hr since we grouped them\n",
    "\n",
    "columns = columns.drop([\"temp\", \"hr\"])\n"
   ]
  },
  {
   "cell_type": "code",
   "execution_count": 343,
   "metadata": {
    "collapsed": false
   },
   "outputs": [
    {
     "data": {
      "text/plain": [
       "Index(['time_label', 'atemp', 'hum', 'yr', 'season', 'weathersit', 'mnth',\n",
       "       'windspeed'],\n",
       "      dtype='object')"
      ]
     },
     "execution_count": 343,
     "metadata": {},
     "output_type": "execute_result"
    }
   ],
   "source": [
    "columns"
   ]
  },
  {
   "cell_type": "markdown",
   "metadata": {},
   "source": [
    "Now let's run a basic regression"
   ]
  },
  {
   "cell_type": "code",
   "execution_count": 344,
   "metadata": {
    "collapsed": false
   },
   "outputs": [
    {
     "name": "stderr",
     "output_type": "stream",
     "text": [
      "/dataquest/system/env/python3/lib/python3.4/site-packages/ipykernel/__main__.py:3: SettingWithCopyWarning:\n",
      "\n",
      "\n",
      "A value is trying to be set on a copy of a slice from a DataFrame.\n",
      "Try using .loc[row_indexer,col_indexer] = value instead\n",
      "\n",
      "See the caveats in the documentation: http://pandas.pydata.org/pandas-docs/stable/indexing.html#indexing-view-versus-copy\n",
      "\n"
     ]
    }
   ],
   "source": [
    "model1 = LinearRegression()\n",
    "model1.fit(train[columns], train[\"cnt\"])\n",
    "test[\"prediction1\"] = model1.predict(test[columns])\n",
    "rme1 = math.sqrt(mean_squared_error(test[\"cnt\"], test[\"prediction1\"]))"
   ]
  },
  {
   "cell_type": "code",
   "execution_count": 345,
   "metadata": {
    "collapsed": false
   },
   "outputs": [],
   "source": [
    "rme = {}\n",
    "rme[\"LinearReg\"] = rme1"
   ]
  },
  {
   "cell_type": "code",
   "execution_count": 346,
   "metadata": {
    "collapsed": false
   },
   "outputs": [
    {
     "data": {
      "text/html": [
       "<div>\n",
       "<style scoped>\n",
       "    .dataframe tbody tr th:only-of-type {\n",
       "        vertical-align: middle;\n",
       "    }\n",
       "\n",
       "    .dataframe tbody tr th {\n",
       "        vertical-align: top;\n",
       "    }\n",
       "\n",
       "    .dataframe thead th {\n",
       "        text-align: right;\n",
       "    }\n",
       "</style>\n",
       "<table border=\"1\" class=\"dataframe\">\n",
       "  <thead>\n",
       "    <tr style=\"text-align: right;\">\n",
       "      <th></th>\n",
       "      <th>instant</th>\n",
       "      <th>dteday</th>\n",
       "      <th>season</th>\n",
       "      <th>yr</th>\n",
       "      <th>mnth</th>\n",
       "      <th>hr</th>\n",
       "      <th>holiday</th>\n",
       "      <th>weekday</th>\n",
       "      <th>workingday</th>\n",
       "      <th>weathersit</th>\n",
       "      <th>temp</th>\n",
       "      <th>atemp</th>\n",
       "      <th>hum</th>\n",
       "      <th>windspeed</th>\n",
       "      <th>casual</th>\n",
       "      <th>registered</th>\n",
       "      <th>cnt</th>\n",
       "      <th>time_label</th>\n",
       "      <th>prediction1</th>\n",
       "    </tr>\n",
       "  </thead>\n",
       "  <tbody>\n",
       "    <tr>\n",
       "      <th>5916</th>\n",
       "      <td>5917</td>\n",
       "      <td>2011-09-09</td>\n",
       "      <td>3</td>\n",
       "      <td>0</td>\n",
       "      <td>9</td>\n",
       "      <td>1</td>\n",
       "      <td>0</td>\n",
       "      <td>5</td>\n",
       "      <td>1</td>\n",
       "      <td>2</td>\n",
       "      <td>0.62</td>\n",
       "      <td>0.5152</td>\n",
       "      <td>1.00</td>\n",
       "      <td>0.1642</td>\n",
       "      <td>0</td>\n",
       "      <td>8</td>\n",
       "      <td>8</td>\n",
       "      <td>4</td>\n",
       "      <td>1.234099</td>\n",
       "    </tr>\n",
       "    <tr>\n",
       "      <th>6583</th>\n",
       "      <td>6584</td>\n",
       "      <td>2011-10-06</td>\n",
       "      <td>4</td>\n",
       "      <td>0</td>\n",
       "      <td>10</td>\n",
       "      <td>21</td>\n",
       "      <td>0</td>\n",
       "      <td>4</td>\n",
       "      <td>1</td>\n",
       "      <td>1</td>\n",
       "      <td>0.46</td>\n",
       "      <td>0.4545</td>\n",
       "      <td>0.88</td>\n",
       "      <td>0.0896</td>\n",
       "      <td>34</td>\n",
       "      <td>161</td>\n",
       "      <td>195</td>\n",
       "      <td>3</td>\n",
       "      <td>100.056315</td>\n",
       "    </tr>\n",
       "    <tr>\n",
       "      <th>10917</th>\n",
       "      <td>10918</td>\n",
       "      <td>2012-04-05</td>\n",
       "      <td>2</td>\n",
       "      <td>1</td>\n",
       "      <td>4</td>\n",
       "      <td>1</td>\n",
       "      <td>0</td>\n",
       "      <td>4</td>\n",
       "      <td>1</td>\n",
       "      <td>1</td>\n",
       "      <td>0.48</td>\n",
       "      <td>0.4697</td>\n",
       "      <td>0.27</td>\n",
       "      <td>0.3284</td>\n",
       "      <td>4</td>\n",
       "      <td>9</td>\n",
       "      <td>13</td>\n",
       "      <td>4</td>\n",
       "      <td>193.065199</td>\n",
       "    </tr>\n",
       "    <tr>\n",
       "      <th>3576</th>\n",
       "      <td>3577</td>\n",
       "      <td>2011-06-02</td>\n",
       "      <td>2</td>\n",
       "      <td>0</td>\n",
       "      <td>6</td>\n",
       "      <td>22</td>\n",
       "      <td>0</td>\n",
       "      <td>4</td>\n",
       "      <td>1</td>\n",
       "      <td>1</td>\n",
       "      <td>0.64</td>\n",
       "      <td>0.6212</td>\n",
       "      <td>0.33</td>\n",
       "      <td>0.2537</td>\n",
       "      <td>14</td>\n",
       "      <td>141</td>\n",
       "      <td>155</td>\n",
       "      <td>3</td>\n",
       "      <td>211.531424</td>\n",
       "    </tr>\n",
       "    <tr>\n",
       "      <th>1975</th>\n",
       "      <td>1976</td>\n",
       "      <td>2011-03-28</td>\n",
       "      <td>2</td>\n",
       "      <td>0</td>\n",
       "      <td>3</td>\n",
       "      <td>3</td>\n",
       "      <td>0</td>\n",
       "      <td>1</td>\n",
       "      <td>1</td>\n",
       "      <td>1</td>\n",
       "      <td>0.22</td>\n",
       "      <td>0.2273</td>\n",
       "      <td>0.44</td>\n",
       "      <td>0.1642</td>\n",
       "      <td>0</td>\n",
       "      <td>2</td>\n",
       "      <td>2</td>\n",
       "      <td>4</td>\n",
       "      <td>2.429544</td>\n",
       "    </tr>\n",
       "  </tbody>\n",
       "</table>\n",
       "</div>"
      ],
      "text/plain": [
       "       instant      dteday  season  yr  mnth  hr  holiday  weekday  \\\n",
       "5916      5917  2011-09-09       3   0     9   1        0        5   \n",
       "6583      6584  2011-10-06       4   0    10  21        0        4   \n",
       "10917    10918  2012-04-05       2   1     4   1        0        4   \n",
       "3576      3577  2011-06-02       2   0     6  22        0        4   \n",
       "1975      1976  2011-03-28       2   0     3   3        0        1   \n",
       "\n",
       "       workingday  weathersit  temp   atemp   hum  windspeed  casual  \\\n",
       "5916            1           2  0.62  0.5152  1.00     0.1642       0   \n",
       "6583            1           1  0.46  0.4545  0.88     0.0896      34   \n",
       "10917           1           1  0.48  0.4697  0.27     0.3284       4   \n",
       "3576            1           1  0.64  0.6212  0.33     0.2537      14   \n",
       "1975            1           1  0.22  0.2273  0.44     0.1642       0   \n",
       "\n",
       "       registered  cnt  time_label  prediction1  \n",
       "5916            8    8           4     1.234099  \n",
       "6583          161  195           3   100.056315  \n",
       "10917           9   13           4   193.065199  \n",
       "3576          141  155           3   211.531424  \n",
       "1975            2    2           4     2.429544  "
      ]
     },
     "execution_count": 346,
     "metadata": {},
     "output_type": "execute_result"
    }
   ],
   "source": [
    "test.head()"
   ]
  },
  {
   "cell_type": "markdown",
   "metadata": {},
   "source": [
    "Next, we will use dummies for categorical variables, and see if we can have some improvements"
   ]
  },
  {
   "cell_type": "code",
   "execution_count": 347,
   "metadata": {
    "collapsed": true
   },
   "outputs": [],
   "source": [
    "cate = [\"time_label\", \"yr\", \"season\", \"weathersit\", \"mnth\"]"
   ]
  },
  {
   "cell_type": "code",
   "execution_count": 348,
   "metadata": {
    "collapsed": false
   },
   "outputs": [],
   "source": [
    "train_cate = train.copy()\n",
    "test_cate = test.copy()"
   ]
  },
  {
   "cell_type": "code",
   "execution_count": 349,
   "metadata": {
    "collapsed": false
   },
   "outputs": [],
   "source": [
    "train_dummies = pd.get_dummies(train_cate, prefix = cate, columns = cate)\n",
    "test_dummies = pd.get_dummies(test_cate, prefix = cate, columns = cate)\n",
    "\n",
    "\n",
    "    "
   ]
  },
  {
   "cell_type": "code",
   "execution_count": 350,
   "metadata": {
    "collapsed": false
   },
   "outputs": [],
   "source": [
    "columns_cate = train_dummies.columns"
   ]
  },
  {
   "cell_type": "code",
   "execution_count": 351,
   "metadata": {
    "collapsed": false
   },
   "outputs": [],
   "source": [
    "columns_cate = columns_cate.drop([\"instant\", \"dteday\", \"hr\", \"holiday\", \"weekday\", \"workingday\", \"temp\", \"casual\", \"registered\", \"cnt\"])\n"
   ]
  },
  {
   "cell_type": "code",
   "execution_count": 352,
   "metadata": {
    "collapsed": false
   },
   "outputs": [
    {
     "data": {
      "text/plain": [
       "Index(['atemp', 'hum', 'windspeed', 'time_label_1', 'time_label_2',\n",
       "       'time_label_3', 'time_label_4', 'yr_0', 'yr_1', 'season_1', 'season_2',\n",
       "       'season_3', 'season_4', 'weathersit_1', 'weathersit_2', 'weathersit_3',\n",
       "       'weathersit_4', 'mnth_1', 'mnth_2', 'mnth_3', 'mnth_4', 'mnth_5',\n",
       "       'mnth_6', 'mnth_7', 'mnth_8', 'mnth_9', 'mnth_10', 'mnth_11',\n",
       "       'mnth_12'],\n",
       "      dtype='object')"
      ]
     },
     "execution_count": 352,
     "metadata": {},
     "output_type": "execute_result"
    }
   ],
   "source": [
    "columns_cate"
   ]
  },
  {
   "cell_type": "markdown",
   "metadata": {},
   "source": [
    "Now, we fit a second regression with dummies"
   ]
  },
  {
   "cell_type": "code",
   "execution_count": 353,
   "metadata": {
    "collapsed": false
   },
   "outputs": [
    {
     "name": "stderr",
     "output_type": "stream",
     "text": [
      "/dataquest/system/env/python3/lib/python3.4/site-packages/ipykernel/__main__.py:3: SettingWithCopyWarning:\n",
      "\n",
      "\n",
      "A value is trying to be set on a copy of a slice from a DataFrame.\n",
      "Try using .loc[row_indexer,col_indexer] = value instead\n",
      "\n",
      "See the caveats in the documentation: http://pandas.pydata.org/pandas-docs/stable/indexing.html#indexing-view-versus-copy\n",
      "\n"
     ]
    }
   ],
   "source": [
    "model2 = LinearRegression()\n",
    "model2.fit(train_dummies[columns_cate], train_dummies[\"cnt\"])\n",
    "test[\"prediction2\"] = model2.predict(test_dummies[columns_cate])"
   ]
  },
  {
   "cell_type": "code",
   "execution_count": 354,
   "metadata": {
    "collapsed": false
   },
   "outputs": [
    {
     "data": {
      "text/html": [
       "<div>\n",
       "<style scoped>\n",
       "    .dataframe tbody tr th:only-of-type {\n",
       "        vertical-align: middle;\n",
       "    }\n",
       "\n",
       "    .dataframe tbody tr th {\n",
       "        vertical-align: top;\n",
       "    }\n",
       "\n",
       "    .dataframe thead th {\n",
       "        text-align: right;\n",
       "    }\n",
       "</style>\n",
       "<table border=\"1\" class=\"dataframe\">\n",
       "  <thead>\n",
       "    <tr style=\"text-align: right;\">\n",
       "      <th></th>\n",
       "      <th>instant</th>\n",
       "      <th>dteday</th>\n",
       "      <th>season</th>\n",
       "      <th>yr</th>\n",
       "      <th>mnth</th>\n",
       "      <th>hr</th>\n",
       "      <th>holiday</th>\n",
       "      <th>weekday</th>\n",
       "      <th>workingday</th>\n",
       "      <th>weathersit</th>\n",
       "      <th>temp</th>\n",
       "      <th>atemp</th>\n",
       "      <th>hum</th>\n",
       "      <th>windspeed</th>\n",
       "      <th>casual</th>\n",
       "      <th>registered</th>\n",
       "      <th>cnt</th>\n",
       "      <th>time_label</th>\n",
       "      <th>prediction1</th>\n",
       "      <th>prediction2</th>\n",
       "    </tr>\n",
       "  </thead>\n",
       "  <tbody>\n",
       "    <tr>\n",
       "      <th>5916</th>\n",
       "      <td>5917</td>\n",
       "      <td>2011-09-09</td>\n",
       "      <td>3</td>\n",
       "      <td>0</td>\n",
       "      <td>9</td>\n",
       "      <td>1</td>\n",
       "      <td>0</td>\n",
       "      <td>5</td>\n",
       "      <td>1</td>\n",
       "      <td>2</td>\n",
       "      <td>0.62</td>\n",
       "      <td>0.5152</td>\n",
       "      <td>1.00</td>\n",
       "      <td>0.1642</td>\n",
       "      <td>0</td>\n",
       "      <td>8</td>\n",
       "      <td>8</td>\n",
       "      <td>4</td>\n",
       "      <td>1.234099</td>\n",
       "      <td>7.953125</td>\n",
       "    </tr>\n",
       "    <tr>\n",
       "      <th>6583</th>\n",
       "      <td>6584</td>\n",
       "      <td>2011-10-06</td>\n",
       "      <td>4</td>\n",
       "      <td>0</td>\n",
       "      <td>10</td>\n",
       "      <td>21</td>\n",
       "      <td>0</td>\n",
       "      <td>4</td>\n",
       "      <td>1</td>\n",
       "      <td>1</td>\n",
       "      <td>0.46</td>\n",
       "      <td>0.4545</td>\n",
       "      <td>0.88</td>\n",
       "      <td>0.0896</td>\n",
       "      <td>34</td>\n",
       "      <td>161</td>\n",
       "      <td>195</td>\n",
       "      <td>3</td>\n",
       "      <td>100.056315</td>\n",
       "      <td>168.640625</td>\n",
       "    </tr>\n",
       "    <tr>\n",
       "      <th>10917</th>\n",
       "      <td>10918</td>\n",
       "      <td>2012-04-05</td>\n",
       "      <td>2</td>\n",
       "      <td>1</td>\n",
       "      <td>4</td>\n",
       "      <td>1</td>\n",
       "      <td>0</td>\n",
       "      <td>4</td>\n",
       "      <td>1</td>\n",
       "      <td>1</td>\n",
       "      <td>0.48</td>\n",
       "      <td>0.4697</td>\n",
       "      <td>0.27</td>\n",
       "      <td>0.3284</td>\n",
       "      <td>4</td>\n",
       "      <td>9</td>\n",
       "      <td>13</td>\n",
       "      <td>4</td>\n",
       "      <td>193.065199</td>\n",
       "      <td>125.703125</td>\n",
       "    </tr>\n",
       "    <tr>\n",
       "      <th>3576</th>\n",
       "      <td>3577</td>\n",
       "      <td>2011-06-02</td>\n",
       "      <td>2</td>\n",
       "      <td>0</td>\n",
       "      <td>6</td>\n",
       "      <td>22</td>\n",
       "      <td>0</td>\n",
       "      <td>4</td>\n",
       "      <td>1</td>\n",
       "      <td>1</td>\n",
       "      <td>0.64</td>\n",
       "      <td>0.6212</td>\n",
       "      <td>0.33</td>\n",
       "      <td>0.2537</td>\n",
       "      <td>14</td>\n",
       "      <td>141</td>\n",
       "      <td>155</td>\n",
       "      <td>3</td>\n",
       "      <td>211.531424</td>\n",
       "      <td>217.546875</td>\n",
       "    </tr>\n",
       "    <tr>\n",
       "      <th>1975</th>\n",
       "      <td>1976</td>\n",
       "      <td>2011-03-28</td>\n",
       "      <td>2</td>\n",
       "      <td>0</td>\n",
       "      <td>3</td>\n",
       "      <td>3</td>\n",
       "      <td>0</td>\n",
       "      <td>1</td>\n",
       "      <td>1</td>\n",
       "      <td>1</td>\n",
       "      <td>0.22</td>\n",
       "      <td>0.2273</td>\n",
       "      <td>0.44</td>\n",
       "      <td>0.1642</td>\n",
       "      <td>0</td>\n",
       "      <td>2</td>\n",
       "      <td>2</td>\n",
       "      <td>4</td>\n",
       "      <td>2.429544</td>\n",
       "      <td>-14.015625</td>\n",
       "    </tr>\n",
       "  </tbody>\n",
       "</table>\n",
       "</div>"
      ],
      "text/plain": [
       "       instant      dteday  season  yr  mnth  hr  holiday  weekday  \\\n",
       "5916      5917  2011-09-09       3   0     9   1        0        5   \n",
       "6583      6584  2011-10-06       4   0    10  21        0        4   \n",
       "10917    10918  2012-04-05       2   1     4   1        0        4   \n",
       "3576      3577  2011-06-02       2   0     6  22        0        4   \n",
       "1975      1976  2011-03-28       2   0     3   3        0        1   \n",
       "\n",
       "       workingday  weathersit  temp   atemp   hum  windspeed  casual  \\\n",
       "5916            1           2  0.62  0.5152  1.00     0.1642       0   \n",
       "6583            1           1  0.46  0.4545  0.88     0.0896      34   \n",
       "10917           1           1  0.48  0.4697  0.27     0.3284       4   \n",
       "3576            1           1  0.64  0.6212  0.33     0.2537      14   \n",
       "1975            1           1  0.22  0.2273  0.44     0.1642       0   \n",
       "\n",
       "       registered  cnt  time_label  prediction1  prediction2  \n",
       "5916            8    8           4     1.234099     7.953125  \n",
       "6583          161  195           3   100.056315   168.640625  \n",
       "10917           9   13           4   193.065199   125.703125  \n",
       "3576          141  155           3   211.531424   217.546875  \n",
       "1975            2    2           4     2.429544   -14.015625  "
      ]
     },
     "execution_count": 354,
     "metadata": {},
     "output_type": "execute_result"
    }
   ],
   "source": [
    "test.head(5)"
   ]
  },
  {
   "cell_type": "code",
   "execution_count": 355,
   "metadata": {
    "collapsed": false
   },
   "outputs": [],
   "source": [
    "rme2 = math.sqrt(mean_squared_error(test[\"cnt\"], test[\"prediction2\"]))"
   ]
  },
  {
   "cell_type": "code",
   "execution_count": 356,
   "metadata": {
    "collapsed": false
   },
   "outputs": [],
   "source": [
    "rme[\"Regression_with_dummies\"] = rme2"
   ]
  },
  {
   "cell_type": "markdown",
   "metadata": {},
   "source": [
    "Next, I would see if any numerical variables need any transformation"
   ]
  },
  {
   "cell_type": "code",
   "execution_count": 357,
   "metadata": {
    "collapsed": false
   },
   "outputs": [
    {
     "data": {
      "text/plain": [
       "<matplotlib.collections.PathCollection at 0x7f9e20daf3c8>"
      ]
     },
     "execution_count": 357,
     "metadata": {},
     "output_type": "execute_result"
    },
    {
     "data": {
      "image/png": "[encoded data removed]",
      "text/plain": [
       "<matplotlib.figure.Figure at 0x7f9e20f052e8>"
      ]
     },
     "metadata": {},
     "output_type": "display_data"
    }
   ],
   "source": [
    "## plot y vs numerical variables\n",
    "\n",
    "fig = plt.figure(figsize = (12,12))\n",
    "axe1 = fig.add_subplot(4,1,1)\n",
    "axe2 = fig.add_subplot(4,1,2)\n",
    "axe3 = fig.add_subplot(4,1,3)\n",
    "axe1.scatter(train[\"atemp\"], train[\"cnt\"])\n",
    "axe2.scatter(train[\"hum\"], train[\"cnt\"])\n",
    "axe3.scatter(train[\"windspeed\"], train[\"cnt\"])\n",
    "\n"
   ]
  },
  {
   "cell_type": "code",
   "execution_count": 358,
   "metadata": {
    "collapsed": false
   },
   "outputs": [
    {
     "data": {
      "text/plain": [
       "(array([ 128.,  344.,  730.,  821.,  984., 1278., 2061., 3379., 3066.,\n",
       "        1112.]),\n",
       " array([0.        , 0.68844867, 1.37689733, 2.065346  , 2.75379466,\n",
       "        3.44224333, 4.13069199, 4.81914066, 5.50758932, 6.19603799,\n",
       "        6.88448665]),\n",
       " <a list of 10 Patch objects>)"
      ]
     },
     "execution_count": 358,
     "metadata": {},
     "output_type": "execute_result"
    },
    {
     "data": {
      "image/png": "[encoded data removed]",
      "text/plain": [
       "<matplotlib.figure.Figure at 0x7f9e20fe90f0>"
      ]
     },
     "metadata": {},
     "output_type": "display_data"
    }
   ],
   "source": [
    "plt.hist(train[\"cnt\"])\n",
    "plt.hist(np.log(train[\"cnt\"]))"
   ]
  },
  {
   "cell_type": "code",
   "execution_count": 359,
   "metadata": {
    "collapsed": false
   },
   "outputs": [
    {
     "data": {
      "text/plain": [
       "(array([ 128.,  344.,  730.,  821.,  984., 1278., 2061., 3379., 3066.,\n",
       "        1112.]),\n",
       " array([0.        , 0.68844867, 1.37689733, 2.065346  , 2.75379466,\n",
       "        3.44224333, 4.13069199, 4.81914066, 5.50758932, 6.19603799,\n",
       "        6.88448665]),\n",
       " <a list of 10 Patch objects>)"
      ]
     },
     "execution_count": 359,
     "metadata": {},
     "output_type": "execute_result"
    },
    {
     "data": {
      "image/png": "[encoded data removed]",
      "text/plain": [
       "<matplotlib.figure.Figure at 0x7f9e20d4e400>"
      ]
     },
     "metadata": {},
     "output_type": "display_data"
    }
   ],
   "source": [
    "plt.hist(np.log(train[\"cnt\"]))"
   ]
  },
  {
   "cell_type": "markdown",
   "metadata": {},
   "source": [
    "There seems to be no need to transform x, but y seems to be very skewed, and log it should help"
   ]
  },
  {
   "cell_type": "code",
   "execution_count": 360,
   "metadata": {
    "collapsed": false
   },
   "outputs": [],
   "source": [
    "train_dummies[\"log_cnt\"] = np.log(train_dummies[\"cnt\"])\n",
    "test_dummies[\"log_cnt\"] = np.log(test_dummies[\"cnt\"])"
   ]
  },
  {
   "cell_type": "code",
   "execution_count": 361,
   "metadata": {
    "collapsed": false
   },
   "outputs": [
    {
     "name": "stderr",
     "output_type": "stream",
     "text": [
      "/dataquest/system/env/python3/lib/python3.4/site-packages/ipykernel/__main__.py:6: SettingWithCopyWarning:\n",
      "\n",
      "\n",
      "A value is trying to be set on a copy of a slice from a DataFrame.\n",
      "Try using .loc[row_indexer,col_indexer] = value instead\n",
      "\n",
      "See the caveats in the documentation: http://pandas.pydata.org/pandas-docs/stable/indexing.html#indexing-view-versus-copy\n",
      "\n"
     ]
    }
   ],
   "source": [
    "# fit on log_cnt, and exponentiate predictions \n",
    "\n",
    "model3 = LinearRegression()\n",
    "model3.fit(train_dummies[columns_cate], train_dummies[\"log_cnt\"])\n",
    "pred = model3.predict(test_dummies[columns_cate])\n",
    "test[\"prediction3\"] = np.exp(pred)"
   ]
  },
  {
   "cell_type": "code",
   "execution_count": 362,
   "metadata": {
    "collapsed": false
   },
   "outputs": [
    {
     "data": {
      "text/html": [
       "<div>\n",
       "<style scoped>\n",
       "    .dataframe tbody tr th:only-of-type {\n",
       "        vertical-align: middle;\n",
       "    }\n",
       "\n",
       "    .dataframe tbody tr th {\n",
       "        vertical-align: top;\n",
       "    }\n",
       "\n",
       "    .dataframe thead th {\n",
       "        text-align: right;\n",
       "    }\n",
       "</style>\n",
       "<table border=\"1\" class=\"dataframe\">\n",
       "  <thead>\n",
       "    <tr style=\"text-align: right;\">\n",
       "      <th></th>\n",
       "      <th>instant</th>\n",
       "      <th>dteday</th>\n",
       "      <th>season</th>\n",
       "      <th>yr</th>\n",
       "      <th>mnth</th>\n",
       "      <th>hr</th>\n",
       "      <th>holiday</th>\n",
       "      <th>weekday</th>\n",
       "      <th>workingday</th>\n",
       "      <th>weathersit</th>\n",
       "      <th>...</th>\n",
       "      <th>atemp</th>\n",
       "      <th>hum</th>\n",
       "      <th>windspeed</th>\n",
       "      <th>casual</th>\n",
       "      <th>registered</th>\n",
       "      <th>cnt</th>\n",
       "      <th>time_label</th>\n",
       "      <th>prediction1</th>\n",
       "      <th>prediction2</th>\n",
       "      <th>prediction3</th>\n",
       "    </tr>\n",
       "  </thead>\n",
       "  <tbody>\n",
       "    <tr>\n",
       "      <th>5916</th>\n",
       "      <td>5917</td>\n",
       "      <td>2011-09-09</td>\n",
       "      <td>3</td>\n",
       "      <td>0</td>\n",
       "      <td>9</td>\n",
       "      <td>1</td>\n",
       "      <td>0</td>\n",
       "      <td>5</td>\n",
       "      <td>1</td>\n",
       "      <td>2</td>\n",
       "      <td>...</td>\n",
       "      <td>0.5152</td>\n",
       "      <td>1.00</td>\n",
       "      <td>0.1642</td>\n",
       "      <td>0</td>\n",
       "      <td>8</td>\n",
       "      <td>8</td>\n",
       "      <td>4</td>\n",
       "      <td>1.234099</td>\n",
       "      <td>7.953125</td>\n",
       "      <td>15.113315</td>\n",
       "    </tr>\n",
       "    <tr>\n",
       "      <th>6583</th>\n",
       "      <td>6584</td>\n",
       "      <td>2011-10-06</td>\n",
       "      <td>4</td>\n",
       "      <td>0</td>\n",
       "      <td>10</td>\n",
       "      <td>21</td>\n",
       "      <td>0</td>\n",
       "      <td>4</td>\n",
       "      <td>1</td>\n",
       "      <td>1</td>\n",
       "      <td>...</td>\n",
       "      <td>0.4545</td>\n",
       "      <td>0.88</td>\n",
       "      <td>0.0896</td>\n",
       "      <td>34</td>\n",
       "      <td>161</td>\n",
       "      <td>195</td>\n",
       "      <td>3</td>\n",
       "      <td>100.056315</td>\n",
       "      <td>168.640625</td>\n",
       "      <td>132.582757</td>\n",
       "    </tr>\n",
       "    <tr>\n",
       "      <th>10917</th>\n",
       "      <td>10918</td>\n",
       "      <td>2012-04-05</td>\n",
       "      <td>2</td>\n",
       "      <td>1</td>\n",
       "      <td>4</td>\n",
       "      <td>1</td>\n",
       "      <td>0</td>\n",
       "      <td>4</td>\n",
       "      <td>1</td>\n",
       "      <td>1</td>\n",
       "      <td>...</td>\n",
       "      <td>0.4697</td>\n",
       "      <td>0.27</td>\n",
       "      <td>0.3284</td>\n",
       "      <td>4</td>\n",
       "      <td>9</td>\n",
       "      <td>13</td>\n",
       "      <td>4</td>\n",
       "      <td>193.065199</td>\n",
       "      <td>125.703125</td>\n",
       "      <td>26.693600</td>\n",
       "    </tr>\n",
       "    <tr>\n",
       "      <th>3576</th>\n",
       "      <td>3577</td>\n",
       "      <td>2011-06-02</td>\n",
       "      <td>2</td>\n",
       "      <td>0</td>\n",
       "      <td>6</td>\n",
       "      <td>22</td>\n",
       "      <td>0</td>\n",
       "      <td>4</td>\n",
       "      <td>1</td>\n",
       "      <td>1</td>\n",
       "      <td>...</td>\n",
       "      <td>0.6212</td>\n",
       "      <td>0.33</td>\n",
       "      <td>0.2537</td>\n",
       "      <td>14</td>\n",
       "      <td>141</td>\n",
       "      <td>155</td>\n",
       "      <td>3</td>\n",
       "      <td>211.531424</td>\n",
       "      <td>217.546875</td>\n",
       "      <td>177.497243</td>\n",
       "    </tr>\n",
       "    <tr>\n",
       "      <th>1975</th>\n",
       "      <td>1976</td>\n",
       "      <td>2011-03-28</td>\n",
       "      <td>2</td>\n",
       "      <td>0</td>\n",
       "      <td>3</td>\n",
       "      <td>3</td>\n",
       "      <td>0</td>\n",
       "      <td>1</td>\n",
       "      <td>1</td>\n",
       "      <td>1</td>\n",
       "      <td>...</td>\n",
       "      <td>0.2273</td>\n",
       "      <td>0.44</td>\n",
       "      <td>0.1642</td>\n",
       "      <td>0</td>\n",
       "      <td>2</td>\n",
       "      <td>2</td>\n",
       "      <td>4</td>\n",
       "      <td>2.429544</td>\n",
       "      <td>-14.015625</td>\n",
       "      <td>11.438807</td>\n",
       "    </tr>\n",
       "    <tr>\n",
       "      <th>15092</th>\n",
       "      <td>15093</td>\n",
       "      <td>2012-09-26</td>\n",
       "      <td>4</td>\n",
       "      <td>1</td>\n",
       "      <td>9</td>\n",
       "      <td>1</td>\n",
       "      <td>0</td>\n",
       "      <td>3</td>\n",
       "      <td>1</td>\n",
       "      <td>1</td>\n",
       "      <td>...</td>\n",
       "      <td>0.5455</td>\n",
       "      <td>0.64</td>\n",
       "      <td>0.3284</td>\n",
       "      <td>10</td>\n",
       "      <td>19</td>\n",
       "      <td>29</td>\n",
       "      <td>4</td>\n",
       "      <td>191.601992</td>\n",
       "      <td>176.250000</td>\n",
       "      <td>37.451504</td>\n",
       "    </tr>\n",
       "    <tr>\n",
       "      <th>3882</th>\n",
       "      <td>3883</td>\n",
       "      <td>2011-06-15</td>\n",
       "      <td>2</td>\n",
       "      <td>0</td>\n",
       "      <td>6</td>\n",
       "      <td>16</td>\n",
       "      <td>0</td>\n",
       "      <td>3</td>\n",
       "      <td>1</td>\n",
       "      <td>1</td>\n",
       "      <td>...</td>\n",
       "      <td>0.6667</td>\n",
       "      <td>0.27</td>\n",
       "      <td>0.1343</td>\n",
       "      <td>47</td>\n",
       "      <td>265</td>\n",
       "      <td>312</td>\n",
       "      <td>2</td>\n",
       "      <td>299.759190</td>\n",
       "      <td>354.406250</td>\n",
       "      <td>324.401654</td>\n",
       "    </tr>\n",
       "    <tr>\n",
       "      <th>12953</th>\n",
       "      <td>12954</td>\n",
       "      <td>2012-06-28</td>\n",
       "      <td>3</td>\n",
       "      <td>1</td>\n",
       "      <td>6</td>\n",
       "      <td>22</td>\n",
       "      <td>0</td>\n",
       "      <td>4</td>\n",
       "      <td>1</td>\n",
       "      <td>1</td>\n",
       "      <td>...</td>\n",
       "      <td>0.6970</td>\n",
       "      <td>0.52</td>\n",
       "      <td>0.1642</td>\n",
       "      <td>50</td>\n",
       "      <td>224</td>\n",
       "      <td>274</td>\n",
       "      <td>3</td>\n",
       "      <td>303.620999</td>\n",
       "      <td>303.171875</td>\n",
       "      <td>314.958664</td>\n",
       "    </tr>\n",
       "    <tr>\n",
       "      <th>5590</th>\n",
       "      <td>5591</td>\n",
       "      <td>2011-08-25</td>\n",
       "      <td>3</td>\n",
       "      <td>0</td>\n",
       "      <td>8</td>\n",
       "      <td>20</td>\n",
       "      <td>0</td>\n",
       "      <td>4</td>\n",
       "      <td>1</td>\n",
       "      <td>1</td>\n",
       "      <td>...</td>\n",
       "      <td>0.5909</td>\n",
       "      <td>0.78</td>\n",
       "      <td>0.3582</td>\n",
       "      <td>33</td>\n",
       "      <td>192</td>\n",
       "      <td>225</td>\n",
       "      <td>3</td>\n",
       "      <td>146.155617</td>\n",
       "      <td>171.000000</td>\n",
       "      <td>136.624506</td>\n",
       "    </tr>\n",
       "    <tr>\n",
       "      <th>8548</th>\n",
       "      <td>8549</td>\n",
       "      <td>2011-12-27</td>\n",
       "      <td>1</td>\n",
       "      <td>0</td>\n",
       "      <td>12</td>\n",
       "      <td>22</td>\n",
       "      <td>0</td>\n",
       "      <td>2</td>\n",
       "      <td>1</td>\n",
       "      <td>1</td>\n",
       "      <td>...</td>\n",
       "      <td>0.3333</td>\n",
       "      <td>0.87</td>\n",
       "      <td>0.0896</td>\n",
       "      <td>3</td>\n",
       "      <td>29</td>\n",
       "      <td>32</td>\n",
       "      <td>3</td>\n",
       "      <td>1.553266</td>\n",
       "      <td>45.671875</td>\n",
       "      <td>56.262560</td>\n",
       "    </tr>\n",
       "    <tr>\n",
       "      <th>3500</th>\n",
       "      <td>3501</td>\n",
       "      <td>2011-05-30</td>\n",
       "      <td>2</td>\n",
       "      <td>0</td>\n",
       "      <td>5</td>\n",
       "      <td>18</td>\n",
       "      <td>1</td>\n",
       "      <td>1</td>\n",
       "      <td>0</td>\n",
       "      <td>1</td>\n",
       "      <td>...</td>\n",
       "      <td>0.7879</td>\n",
       "      <td>0.41</td>\n",
       "      <td>0.1642</td>\n",
       "      <td>77</td>\n",
       "      <td>172</td>\n",
       "      <td>249</td>\n",
       "      <td>2</td>\n",
       "      <td>314.863989</td>\n",
       "      <td>377.734375</td>\n",
       "      <td>410.382579</td>\n",
       "    </tr>\n",
       "    <tr>\n",
       "      <th>5009</th>\n",
       "      <td>5010</td>\n",
       "      <td>2011-08-01</td>\n",
       "      <td>3</td>\n",
       "      <td>0</td>\n",
       "      <td>8</td>\n",
       "      <td>15</td>\n",
       "      <td>0</td>\n",
       "      <td>1</td>\n",
       "      <td>1</td>\n",
       "      <td>1</td>\n",
       "      <td>...</td>\n",
       "      <td>0.7879</td>\n",
       "      <td>0.27</td>\n",
       "      <td>0.0000</td>\n",
       "      <td>52</td>\n",
       "      <td>77</td>\n",
       "      <td>129</td>\n",
       "      <td>2</td>\n",
       "      <td>354.539607</td>\n",
       "      <td>377.468750</td>\n",
       "      <td>389.967910</td>\n",
       "    </tr>\n",
       "    <tr>\n",
       "      <th>9459</th>\n",
       "      <td>9460</td>\n",
       "      <td>2012-02-04</td>\n",
       "      <td>1</td>\n",
       "      <td>1</td>\n",
       "      <td>2</td>\n",
       "      <td>1</td>\n",
       "      <td>0</td>\n",
       "      <td>6</td>\n",
       "      <td>0</td>\n",
       "      <td>1</td>\n",
       "      <td>...</td>\n",
       "      <td>0.2727</td>\n",
       "      <td>0.70</td>\n",
       "      <td>0.1045</td>\n",
       "      <td>0</td>\n",
       "      <td>43</td>\n",
       "      <td>43</td>\n",
       "      <td>4</td>\n",
       "      <td>33.242160</td>\n",
       "      <td>5.625000</td>\n",
       "      <td>12.627648</td>\n",
       "    </tr>\n",
       "    <tr>\n",
       "      <th>7918</th>\n",
       "      <td>7919</td>\n",
       "      <td>2011-12-01</td>\n",
       "      <td>4</td>\n",
       "      <td>0</td>\n",
       "      <td>12</td>\n",
       "      <td>14</td>\n",
       "      <td>0</td>\n",
       "      <td>4</td>\n",
       "      <td>1</td>\n",
       "      <td>1</td>\n",
       "      <td>...</td>\n",
       "      <td>0.4091</td>\n",
       "      <td>0.40</td>\n",
       "      <td>0.2239</td>\n",
       "      <td>20</td>\n",
       "      <td>130</td>\n",
       "      <td>150</td>\n",
       "      <td>2</td>\n",
       "      <td>236.126173</td>\n",
       "      <td>289.515625</td>\n",
       "      <td>227.466268</td>\n",
       "    </tr>\n",
       "    <tr>\n",
       "      <th>13055</th>\n",
       "      <td>13056</td>\n",
       "      <td>2012-07-03</td>\n",
       "      <td>3</td>\n",
       "      <td>1</td>\n",
       "      <td>7</td>\n",
       "      <td>4</td>\n",
       "      <td>0</td>\n",
       "      <td>2</td>\n",
       "      <td>1</td>\n",
       "      <td>1</td>\n",
       "      <td>...</td>\n",
       "      <td>0.6364</td>\n",
       "      <td>0.65</td>\n",
       "      <td>0.1045</td>\n",
       "      <td>0</td>\n",
       "      <td>6</td>\n",
       "      <td>6</td>\n",
       "      <td>4</td>\n",
       "      <td>194.488825</td>\n",
       "      <td>120.390625</td>\n",
       "      <td>29.460684</td>\n",
       "    </tr>\n",
       "    <tr>\n",
       "      <th>15964</th>\n",
       "      <td>15965</td>\n",
       "      <td>2012-11-02</td>\n",
       "      <td>4</td>\n",
       "      <td>1</td>\n",
       "      <td>11</td>\n",
       "      <td>21</td>\n",
       "      <td>0</td>\n",
       "      <td>5</td>\n",
       "      <td>1</td>\n",
       "      <td>2</td>\n",
       "      <td>...</td>\n",
       "      <td>0.3333</td>\n",
       "      <td>0.46</td>\n",
       "      <td>0.3582</td>\n",
       "      <td>23</td>\n",
       "      <td>133</td>\n",
       "      <td>156</td>\n",
       "      <td>3</td>\n",
       "      <td>208.696772</td>\n",
       "      <td>209.796875</td>\n",
       "      <td>175.429338</td>\n",
       "    </tr>\n",
       "    <tr>\n",
       "      <th>1561</th>\n",
       "      <td>1562</td>\n",
       "      <td>2011-03-10</td>\n",
       "      <td>1</td>\n",
       "      <td>0</td>\n",
       "      <td>3</td>\n",
       "      <td>12</td>\n",
       "      <td>0</td>\n",
       "      <td>4</td>\n",
       "      <td>1</td>\n",
       "      <td>3</td>\n",
       "      <td>...</td>\n",
       "      <td>0.4242</td>\n",
       "      <td>0.00</td>\n",
       "      <td>0.2239</td>\n",
       "      <td>4</td>\n",
       "      <td>30</td>\n",
       "      <td>34</td>\n",
       "      <td>1</td>\n",
       "      <td>293.223288</td>\n",
       "      <td>143.750000</td>\n",
       "      <td>76.191656</td>\n",
       "    </tr>\n",
       "    <tr>\n",
       "      <th>2901</th>\n",
       "      <td>2902</td>\n",
       "      <td>2011-05-05</td>\n",
       "      <td>2</td>\n",
       "      <td>0</td>\n",
       "      <td>5</td>\n",
       "      <td>19</td>\n",
       "      <td>0</td>\n",
       "      <td>4</td>\n",
       "      <td>1</td>\n",
       "      <td>1</td>\n",
       "      <td>...</td>\n",
       "      <td>0.5152</td>\n",
       "      <td>0.28</td>\n",
       "      <td>0.2239</td>\n",
       "      <td>56</td>\n",
       "      <td>305</td>\n",
       "      <td>361</td>\n",
       "      <td>3</td>\n",
       "      <td>186.698384</td>\n",
       "      <td>205.093750</td>\n",
       "      <td>166.174279</td>\n",
       "    </tr>\n",
       "    <tr>\n",
       "      <th>2959</th>\n",
       "      <td>2960</td>\n",
       "      <td>2011-05-08</td>\n",
       "      <td>2</td>\n",
       "      <td>0</td>\n",
       "      <td>5</td>\n",
       "      <td>5</td>\n",
       "      <td>0</td>\n",
       "      <td>0</td>\n",
       "      <td>0</td>\n",
       "      <td>2</td>\n",
       "      <td>...</td>\n",
       "      <td>0.4394</td>\n",
       "      <td>0.77</td>\n",
       "      <td>0.0000</td>\n",
       "      <td>0</td>\n",
       "      <td>5</td>\n",
       "      <td>5</td>\n",
       "      <td>4</td>\n",
       "      <td>-4.810347</td>\n",
       "      <td>2.718750</td>\n",
       "      <td>14.820997</td>\n",
       "    </tr>\n",
       "    <tr>\n",
       "      <th>808</th>\n",
       "      <td>809</td>\n",
       "      <td>2011-02-06</td>\n",
       "      <td>1</td>\n",
       "      <td>0</td>\n",
       "      <td>2</td>\n",
       "      <td>3</td>\n",
       "      <td>0</td>\n",
       "      <td>0</td>\n",
       "      <td>0</td>\n",
       "      <td>1</td>\n",
       "      <td>...</td>\n",
       "      <td>0.2879</td>\n",
       "      <td>0.60</td>\n",
       "      <td>0.0896</td>\n",
       "      <td>3</td>\n",
       "      <td>10</td>\n",
       "      <td>13</td>\n",
       "      <td>4</td>\n",
       "      <td>-27.458329</td>\n",
       "      <td>-70.406250</td>\n",
       "      <td>8.366767</td>\n",
       "    </tr>\n",
       "  </tbody>\n",
       "</table>\n",
       "<p>20 rows × 21 columns</p>\n",
       "</div>"
      ],
      "text/plain": [
       "       instant      dteday  season  yr  mnth  hr  holiday  weekday  \\\n",
       "5916      5917  2011-09-09       3   0     9   1        0        5   \n",
       "6583      6584  2011-10-06       4   0    10  21        0        4   \n",
       "10917    10918  2012-04-05       2   1     4   1        0        4   \n",
       "3576      3577  2011-06-02       2   0     6  22        0        4   \n",
       "1975      1976  2011-03-28       2   0     3   3        0        1   \n",
       "15092    15093  2012-09-26       4   1     9   1        0        3   \n",
       "3882      3883  2011-06-15       2   0     6  16        0        3   \n",
       "12953    12954  2012-06-28       3   1     6  22        0        4   \n",
       "5590      5591  2011-08-25       3   0     8  20        0        4   \n",
       "8548      8549  2011-12-27       1   0    12  22        0        2   \n",
       "3500      3501  2011-05-30       2   0     5  18        1        1   \n",
       "5009      5010  2011-08-01       3   0     8  15        0        1   \n",
       "9459      9460  2012-02-04       1   1     2   1        0        6   \n",
       "7918      7919  2011-12-01       4   0    12  14        0        4   \n",
       "13055    13056  2012-07-03       3   1     7   4        0        2   \n",
       "15964    15965  2012-11-02       4   1    11  21        0        5   \n",
       "1561      1562  2011-03-10       1   0     3  12        0        4   \n",
       "2901      2902  2011-05-05       2   0     5  19        0        4   \n",
       "2959      2960  2011-05-08       2   0     5   5        0        0   \n",
       "808        809  2011-02-06       1   0     2   3        0        0   \n",
       "\n",
       "       workingday  weathersit     ...        atemp   hum  windspeed  casual  \\\n",
       "5916            1           2     ...       0.5152  1.00     0.1642       0   \n",
       "6583            1           1     ...       0.4545  0.88     0.0896      34   \n",
       "10917           1           1     ...       0.4697  0.27     0.3284       4   \n",
       "3576            1           1     ...       0.6212  0.33     0.2537      14   \n",
       "1975            1           1     ...       0.2273  0.44     0.1642       0   \n",
       "15092           1           1     ...       0.5455  0.64     0.3284      10   \n",
       "3882            1           1     ...       0.6667  0.27     0.1343      47   \n",
       "12953           1           1     ...       0.6970  0.52     0.1642      50   \n",
       "5590            1           1     ...       0.5909  0.78     0.3582      33   \n",
       "8548            1           1     ...       0.3333  0.87     0.0896       3   \n",
       "3500            0           1     ...       0.7879  0.41     0.1642      77   \n",
       "5009            1           1     ...       0.7879  0.27     0.0000      52   \n",
       "9459            0           1     ...       0.2727  0.70     0.1045       0   \n",
       "7918            1           1     ...       0.4091  0.40     0.2239      20   \n",
       "13055           1           1     ...       0.6364  0.65     0.1045       0   \n",
       "15964           1           2     ...       0.3333  0.46     0.3582      23   \n",
       "1561            1           3     ...       0.4242  0.00     0.2239       4   \n",
       "2901            1           1     ...       0.5152  0.28     0.2239      56   \n",
       "2959            0           2     ...       0.4394  0.77     0.0000       0   \n",
       "808             0           1     ...       0.2879  0.60     0.0896       3   \n",
       "\n",
       "       registered  cnt  time_label  prediction1  prediction2  prediction3  \n",
       "5916            8    8           4     1.234099     7.953125    15.113315  \n",
       "6583          161  195           3   100.056315   168.640625   132.582757  \n",
       "10917           9   13           4   193.065199   125.703125    26.693600  \n",
       "3576          141  155           3   211.531424   217.546875   177.497243  \n",
       "1975            2    2           4     2.429544   -14.015625    11.438807  \n",
       "15092          19   29           4   191.601992   176.250000    37.451504  \n",
       "3882          265  312           2   299.759190   354.406250   324.401654  \n",
       "12953         224  274           3   303.620999   303.171875   314.958664  \n",
       "5590          192  225           3   146.155617   171.000000   136.624506  \n",
       "8548           29   32           3     1.553266    45.671875    56.262560  \n",
       "3500          172  249           2   314.863989   377.734375   410.382579  \n",
       "5009           77  129           2   354.539607   377.468750   389.967910  \n",
       "9459           43   43           4    33.242160     5.625000    12.627648  \n",
       "7918          130  150           2   236.126173   289.515625   227.466268  \n",
       "13055           6    6           4   194.488825   120.390625    29.460684  \n",
       "15964         133  156           3   208.696772   209.796875   175.429338  \n",
       "1561           30   34           1   293.223288   143.750000    76.191656  \n",
       "2901          305  361           3   186.698384   205.093750   166.174279  \n",
       "2959            5    5           4    -4.810347     2.718750    14.820997  \n",
       "808            10   13           4   -27.458329   -70.406250     8.366767  \n",
       "\n",
       "[20 rows x 21 columns]"
      ]
     },
     "execution_count": 362,
     "metadata": {},
     "output_type": "execute_result"
    }
   ],
   "source": [
    "test.head(20)"
   ]
  },
  {
   "cell_type": "code",
   "execution_count": 363,
   "metadata": {
    "collapsed": true
   },
   "outputs": [],
   "source": [
    "rme[\"Regression_log_cnt\"] = math.sqrt(mean_squared_error(test[\"cnt\"], test[\"prediction3\"]))"
   ]
  },
  {
   "cell_type": "code",
   "execution_count": 364,
   "metadata": {
    "collapsed": false
   },
   "outputs": [
    {
     "data": {
      "text/plain": [
       "{'LinearReg': 131.94124228238326,\n",
       " 'Regression_log_cnt': 120.70500707242941,\n",
       " 'Regression_with_dummies': 121.43658928032261}"
      ]
     },
     "execution_count": 364,
     "metadata": {},
     "output_type": "execute_result"
    }
   ],
   "source": [
    "rme"
   ]
  },
  {
   "cell_type": "markdown",
   "metadata": {},
   "source": [
    "Seems like not a huge improvement, so now we can try trees"
   ]
  },
  {
   "cell_type": "code",
   "execution_count": 365,
   "metadata": {
    "collapsed": false
   },
   "outputs": [
    {
     "name": "stderr",
     "output_type": "stream",
     "text": [
      "/dataquest/system/env/python3/lib/python3.4/site-packages/ipykernel/__main__.py:3: SettingWithCopyWarning:\n",
      "\n",
      "\n",
      "A value is trying to be set on a copy of a slice from a DataFrame.\n",
      "Try using .loc[row_indexer,col_indexer] = value instead\n",
      "\n",
      "See the caveats in the documentation: http://pandas.pydata.org/pandas-docs/stable/indexing.html#indexing-view-versus-copy\n",
      "\n"
     ]
    }
   ],
   "source": [
    "model4 = DecisionTreeRegressor()\n",
    "model4.fit(train[columns], train[\"cnt\"])\n",
    "test[\"prediction4\"] = model4.predict(test[columns])"
   ]
  },
  {
   "cell_type": "code",
   "execution_count": 366,
   "metadata": {
    "collapsed": false
   },
   "outputs": [],
   "source": [
    "rme[\"Full_tree\"] = math.sqrt(mean_squared_error(test[\"cnt\"], test[\"prediction4\"]))"
   ]
  },
  {
   "cell_type": "code",
   "execution_count": 367,
   "metadata": {
    "collapsed": false
   },
   "outputs": [],
   "source": [
    "## check if it's overfitting (training error vs testing error)\n",
    "train_pred = model4.predict(train[columns])\n",
    "train_rme = math.sqrt(mean_squared_error(train[\"cnt\"], train_pred))\n"
   ]
  },
  {
   "cell_type": "code",
   "execution_count": 368,
   "metadata": {
    "collapsed": false
   },
   "outputs": [
    {
     "name": "stdout",
     "output_type": "stream",
     "text": [
      "training rme is 22.778030536156813\n",
      "testing rme is 148.38503797024532\n"
     ]
    }
   ],
   "source": [
    "print(\"training rme is \" + str(train_rme))\n",
    "print(\"testing rme is \" + str(rme[\"Full_tree\"]))"
   ]
  },
  {
   "cell_type": "markdown",
   "metadata": {},
   "source": [
    "It's clearly overfitting, so let's try to tune the model so it performs better on test set"
   ]
  },
  {
   "cell_type": "code",
   "execution_count": 369,
   "metadata": {
    "collapsed": false
   },
   "outputs": [],
   "source": [
    "def gridsearch(min_samples_leaf, max_depth):\n",
    "    model = DecisionTreeRegressor(max_depth = max_depth, min_samples_leaf = min_samples_leaf)\n",
    "    model.fit(train[columns], train[\"cnt\"])\n",
    "    test_pred = model.predict(test[columns])\n",
    "    test_rme = math.sqrt(mean_squared_error(test[\"cnt\"], test_pred))\n",
    "\n",
    "### check training and testing error again\n",
    "    train_pred = model.predict(train[columns])\n",
    "    train_rme = math.sqrt(mean_squared_error(train[\"cnt\"], train_pred))\n",
    "\n",
    "    print( \"min samples = \" + str(min_samples_leaf) + \", max depth = \" +str(max_depth) +\", training rme is \" + str(round(train_rme,2)) + \", testing rme is \" + str(round(test_rme,2)))\n",
    "\n",
    "    "
   ]
  },
  {
   "cell_type": "code",
   "execution_count": 370,
   "metadata": {
    "collapsed": false
   },
   "outputs": [
    {
     "name": "stdout",
     "output_type": "stream",
     "text": [
      "min samples = 20, max depth = 5, training rme is 117.91, testing rme is 117.72\n",
      "min samples = 20, max depth = 10, training rme is 107.11, testing rme is 109.78\n",
      "min samples = 20, max depth = 15, training rme is 103.38, testing rme is 111.99\n",
      "min samples = 20, max depth = 20, training rme is 103.01, testing rme is 112.03\n",
      "min samples = 20, max depth = 25, training rme is 103.01, testing rme is 112.03\n",
      "min samples = 50, max depth = 5, training rme is 117.91, testing rme is 117.71\n",
      "min samples = 50, max depth = 10, training rme is 109.05, testing rme is 110.64\n",
      "min samples = 50, max depth = 15, training rme is 108.2, testing rme is 110.6\n",
      "min samples = 50, max depth = 20, training rme is 108.2, testing rme is 110.6\n",
      "min samples = 50, max depth = 25, training rme is 108.2, testing rme is 110.6\n",
      "min samples = 80, max depth = 5, training rme is 117.92, testing rme is 117.72\n",
      "min samples = 80, max depth = 10, training rme is 110.92, testing rme is 111.69\n",
      "min samples = 80, max depth = 15, training rme is 110.64, testing rme is 111.73\n",
      "min samples = 80, max depth = 20, training rme is 110.64, testing rme is 111.73\n",
      "min samples = 80, max depth = 25, training rme is 110.64, testing rme is 111.73\n",
      "min samples = 110, max depth = 5, training rme is 117.92, testing rme is 117.71\n",
      "min samples = 110, max depth = 10, training rme is 111.91, testing rme is 111.83\n",
      "min samples = 110, max depth = 15, training rme is 111.83, testing rme is 111.94\n",
      "min samples = 110, max depth = 20, training rme is 111.83, testing rme is 111.94\n",
      "min samples = 110, max depth = 25, training rme is 111.83, testing rme is 111.94\n",
      "min samples = 140, max depth = 5, training rme is 117.92, testing rme is 117.69\n",
      "min samples = 140, max depth = 10, training rme is 112.84, testing rme is 113.02\n",
      "min samples = 140, max depth = 15, training rme is 112.84, testing rme is 113.02\n",
      "min samples = 140, max depth = 20, training rme is 112.84, testing rme is 113.02\n",
      "min samples = 140, max depth = 25, training rme is 112.84, testing rme is 113.02\n",
      "min samples = 170, max depth = 5, training rme is 117.92, testing rme is 117.69\n",
      "min samples = 170, max depth = 10, training rme is 113.82, testing rme is 114.12\n",
      "min samples = 170, max depth = 15, training rme is 113.82, testing rme is 114.12\n",
      "min samples = 170, max depth = 20, training rme is 113.82, testing rme is 114.12\n",
      "min samples = 170, max depth = 25, training rme is 113.82, testing rme is 114.12\n"
     ]
    }
   ],
   "source": [
    "for i in range(20, 200, 30):\n",
    "    for j in range (5, 30, 5):\n",
    "        gridsearch(min_samples_leaf = i, max_depth = j)"
   ]
  },
  {
   "cell_type": "markdown",
   "metadata": {},
   "source": [
    "It seems like best value is min samples per leaf = 20, and max depth of the tree is 10, so let's do that"
   ]
  },
  {
   "cell_type": "code",
   "execution_count": 371,
   "metadata": {
    "collapsed": false
   },
   "outputs": [
    {
     "name": "stderr",
     "output_type": "stream",
     "text": [
      "/dataquest/system/env/python3/lib/python3.4/site-packages/ipykernel/__main__.py:3: SettingWithCopyWarning:\n",
      "\n",
      "\n",
      "A value is trying to be set on a copy of a slice from a DataFrame.\n",
      "Try using .loc[row_indexer,col_indexer] = value instead\n",
      "\n",
      "See the caveats in the documentation: http://pandas.pydata.org/pandas-docs/stable/indexing.html#indexing-view-versus-copy\n",
      "\n"
     ]
    }
   ],
   "source": [
    "model5 = DecisionTreeRegressor(max_depth = 10, min_samples_leaf = 20)\n",
    "model5.fit(train[columns], train[\"cnt\"])\n",
    "test[\"prediction5\"] = model5.predict(test[columns])\n",
    "rme [\"Tuned_tree\"] = math.sqrt(mean_squared_error(test[\"cnt\"], test[\"prediction5\"]))"
   ]
  },
  {
   "cell_type": "code",
   "execution_count": 372,
   "metadata": {
    "collapsed": false
   },
   "outputs": [
    {
     "data": {
      "text/html": [
       "<div>\n",
       "<style scoped>\n",
       "    .dataframe tbody tr th:only-of-type {\n",
       "        vertical-align: middle;\n",
       "    }\n",
       "\n",
       "    .dataframe tbody tr th {\n",
       "        vertical-align: top;\n",
       "    }\n",
       "\n",
       "    .dataframe thead th {\n",
       "        text-align: right;\n",
       "    }\n",
       "</style>\n",
       "<table border=\"1\" class=\"dataframe\">\n",
       "  <thead>\n",
       "    <tr style=\"text-align: right;\">\n",
       "      <th></th>\n",
       "      <th>instant</th>\n",
       "      <th>dteday</th>\n",
       "      <th>season</th>\n",
       "      <th>yr</th>\n",
       "      <th>mnth</th>\n",
       "      <th>hr</th>\n",
       "      <th>holiday</th>\n",
       "      <th>weekday</th>\n",
       "      <th>workingday</th>\n",
       "      <th>weathersit</th>\n",
       "      <th>...</th>\n",
       "      <th>windspeed</th>\n",
       "      <th>casual</th>\n",
       "      <th>registered</th>\n",
       "      <th>cnt</th>\n",
       "      <th>time_label</th>\n",
       "      <th>prediction1</th>\n",
       "      <th>prediction2</th>\n",
       "      <th>prediction3</th>\n",
       "      <th>prediction4</th>\n",
       "      <th>prediction5</th>\n",
       "    </tr>\n",
       "  </thead>\n",
       "  <tbody>\n",
       "    <tr>\n",
       "      <th>5916</th>\n",
       "      <td>5917</td>\n",
       "      <td>2011-09-09</td>\n",
       "      <td>3</td>\n",
       "      <td>0</td>\n",
       "      <td>9</td>\n",
       "      <td>1</td>\n",
       "      <td>0</td>\n",
       "      <td>5</td>\n",
       "      <td>1</td>\n",
       "      <td>2</td>\n",
       "      <td>...</td>\n",
       "      <td>0.1642</td>\n",
       "      <td>0</td>\n",
       "      <td>8</td>\n",
       "      <td>8</td>\n",
       "      <td>4</td>\n",
       "      <td>1.234099</td>\n",
       "      <td>7.953125</td>\n",
       "      <td>15.113315</td>\n",
       "      <td>31.0</td>\n",
       "      <td>31.936255</td>\n",
       "    </tr>\n",
       "    <tr>\n",
       "      <th>6583</th>\n",
       "      <td>6584</td>\n",
       "      <td>2011-10-06</td>\n",
       "      <td>4</td>\n",
       "      <td>0</td>\n",
       "      <td>10</td>\n",
       "      <td>21</td>\n",
       "      <td>0</td>\n",
       "      <td>4</td>\n",
       "      <td>1</td>\n",
       "      <td>1</td>\n",
       "      <td>...</td>\n",
       "      <td>0.0896</td>\n",
       "      <td>34</td>\n",
       "      <td>161</td>\n",
       "      <td>195</td>\n",
       "      <td>3</td>\n",
       "      <td>100.056315</td>\n",
       "      <td>168.640625</td>\n",
       "      <td>132.582757</td>\n",
       "      <td>99.0</td>\n",
       "      <td>108.315789</td>\n",
       "    </tr>\n",
       "    <tr>\n",
       "      <th>10917</th>\n",
       "      <td>10918</td>\n",
       "      <td>2012-04-05</td>\n",
       "      <td>2</td>\n",
       "      <td>1</td>\n",
       "      <td>4</td>\n",
       "      <td>1</td>\n",
       "      <td>0</td>\n",
       "      <td>4</td>\n",
       "      <td>1</td>\n",
       "      <td>1</td>\n",
       "      <td>...</td>\n",
       "      <td>0.3284</td>\n",
       "      <td>4</td>\n",
       "      <td>9</td>\n",
       "      <td>13</td>\n",
       "      <td>4</td>\n",
       "      <td>193.065199</td>\n",
       "      <td>125.703125</td>\n",
       "      <td>26.693600</td>\n",
       "      <td>14.0</td>\n",
       "      <td>33.692308</td>\n",
       "    </tr>\n",
       "    <tr>\n",
       "      <th>3576</th>\n",
       "      <td>3577</td>\n",
       "      <td>2011-06-02</td>\n",
       "      <td>2</td>\n",
       "      <td>0</td>\n",
       "      <td>6</td>\n",
       "      <td>22</td>\n",
       "      <td>0</td>\n",
       "      <td>4</td>\n",
       "      <td>1</td>\n",
       "      <td>1</td>\n",
       "      <td>...</td>\n",
       "      <td>0.2537</td>\n",
       "      <td>14</td>\n",
       "      <td>141</td>\n",
       "      <td>155</td>\n",
       "      <td>3</td>\n",
       "      <td>211.531424</td>\n",
       "      <td>217.546875</td>\n",
       "      <td>177.497243</td>\n",
       "      <td>423.0</td>\n",
       "      <td>208.047619</td>\n",
       "    </tr>\n",
       "    <tr>\n",
       "      <th>1975</th>\n",
       "      <td>1976</td>\n",
       "      <td>2011-03-28</td>\n",
       "      <td>2</td>\n",
       "      <td>0</td>\n",
       "      <td>3</td>\n",
       "      <td>3</td>\n",
       "      <td>0</td>\n",
       "      <td>1</td>\n",
       "      <td>1</td>\n",
       "      <td>1</td>\n",
       "      <td>...</td>\n",
       "      <td>0.1642</td>\n",
       "      <td>0</td>\n",
       "      <td>2</td>\n",
       "      <td>2</td>\n",
       "      <td>4</td>\n",
       "      <td>2.429544</td>\n",
       "      <td>-14.015625</td>\n",
       "      <td>11.438807</td>\n",
       "      <td>5.0</td>\n",
       "      <td>14.619048</td>\n",
       "    </tr>\n",
       "  </tbody>\n",
       "</table>\n",
       "<p>5 rows × 23 columns</p>\n",
       "</div>"
      ],
      "text/plain": [
       "       instant      dteday  season  yr  mnth  hr  holiday  weekday  \\\n",
       "5916      5917  2011-09-09       3   0     9   1        0        5   \n",
       "6583      6584  2011-10-06       4   0    10  21        0        4   \n",
       "10917    10918  2012-04-05       2   1     4   1        0        4   \n",
       "3576      3577  2011-06-02       2   0     6  22        0        4   \n",
       "1975      1976  2011-03-28       2   0     3   3        0        1   \n",
       "\n",
       "       workingday  weathersit     ...       windspeed  casual  registered  \\\n",
       "5916            1           2     ...          0.1642       0           8   \n",
       "6583            1           1     ...          0.0896      34         161   \n",
       "10917           1           1     ...          0.3284       4           9   \n",
       "3576            1           1     ...          0.2537      14         141   \n",
       "1975            1           1     ...          0.1642       0           2   \n",
       "\n",
       "       cnt  time_label  prediction1  prediction2  prediction3  prediction4  \\\n",
       "5916     8           4     1.234099     7.953125    15.113315         31.0   \n",
       "6583   195           3   100.056315   168.640625   132.582757         99.0   \n",
       "10917   13           4   193.065199   125.703125    26.693600         14.0   \n",
       "3576   155           3   211.531424   217.546875   177.497243        423.0   \n",
       "1975     2           4     2.429544   -14.015625    11.438807          5.0   \n",
       "\n",
       "       prediction5  \n",
       "5916     31.936255  \n",
       "6583    108.315789  \n",
       "10917    33.692308  \n",
       "3576    208.047619  \n",
       "1975     14.619048  \n",
       "\n",
       "[5 rows x 23 columns]"
      ]
     },
     "execution_count": 372,
     "metadata": {},
     "output_type": "execute_result"
    }
   ],
   "source": [
    "test.head()"
   ]
  },
  {
   "cell_type": "markdown",
   "metadata": {},
   "source": [
    "Next, random forest"
   ]
  },
  {
   "cell_type": "code",
   "execution_count": 373,
   "metadata": {
    "collapsed": false
   },
   "outputs": [
    {
     "name": "stderr",
     "output_type": "stream",
     "text": [
      "/dataquest/system/env/python3/lib/python3.4/site-packages/ipykernel/__main__.py:3: SettingWithCopyWarning:\n",
      "\n",
      "\n",
      "A value is trying to be set on a copy of a slice from a DataFrame.\n",
      "Try using .loc[row_indexer,col_indexer] = value instead\n",
      "\n",
      "See the caveats in the documentation: http://pandas.pydata.org/pandas-docs/stable/indexing.html#indexing-view-versus-copy\n",
      "\n"
     ]
    }
   ],
   "source": [
    "model6 = RandomForestRegressor(n_estimators = 1500, max_depth = 10, min_samples_leaf = 20)\n",
    "model6.fit(train[columns], train[\"cnt\"])\n",
    "test[\"prediction6\"] = model6.predict(test[columns])\n",
    "rme [\"random_forest\"] = math.sqrt(mean_squared_error(test[\"cnt\"], test[\"prediction6\"]))\n"
   ]
  },
  {
   "cell_type": "code",
   "execution_count": 374,
   "metadata": {
    "collapsed": false
   },
   "outputs": [
    {
     "data": {
      "text/plain": [
       "{'Full_tree': 148.38503797024532,\n",
       " 'LinearReg': 131.94124228238326,\n",
       " 'Regression_log_cnt': 120.70500707242941,\n",
       " 'Regression_with_dummies': 121.43658928032261,\n",
       " 'Tuned_tree': 109.77878039971367,\n",
       " 'random_forest': 108.00040355931955}"
      ]
     },
     "execution_count": 374,
     "metadata": {},
     "output_type": "execute_result"
    }
   ],
   "source": [
    "rme"
   ]
  },
  {
   "cell_type": "code",
   "execution_count": 375,
   "metadata": {
    "collapsed": false
   },
   "outputs": [
    {
     "data": {
      "text/plain": [
       "105.09866381845403"
      ]
     },
     "execution_count": 375,
     "metadata": {},
     "output_type": "execute_result"
    }
   ],
   "source": [
    "# check if random forest is overfitting\n",
    "\n",
    "train_pred = model6.predict(train[columns])\n",
    "train_rme = math.sqrt(mean_squared_error(train[\"cnt\"], train_pred))\n",
    "\n",
    "train_rme\n"
   ]
  },
  {
   "cell_type": "markdown",
   "metadata": {},
   "source": [
    "We are done! We will use the predictions given by random forest (prediction6). Finally, let's calculate the mean absolute error to see how much we are off on average!"
   ]
  },
  {
   "cell_type": "code",
   "execution_count": 378,
   "metadata": {
    "collapsed": false
   },
   "outputs": [
    {
     "name": "stdout",
     "output_type": "stream",
     "text": [
      "75.57894860682767\n"
     ]
    }
   ],
   "source": [
    "print(mean_absolute_error(test[\"cnt\"], test[\"prediction6\"]))"
   ]
  },
  {
   "cell_type": "code",
   "execution_count": 379,
   "metadata": {
    "collapsed": false
   },
   "outputs": [
    {
     "data": {
      "text/html": [
       "<div>\n",
       "<style scoped>\n",
       "    .dataframe tbody tr th:only-of-type {\n",
       "        vertical-align: middle;\n",
       "    }\n",
       "\n",
       "    .dataframe tbody tr th {\n",
       "        vertical-align: top;\n",
       "    }\n",
       "\n",
       "    .dataframe thead th {\n",
       "        text-align: right;\n",
       "    }\n",
       "</style>\n",
       "<table border=\"1\" class=\"dataframe\">\n",
       "  <thead>\n",
       "    <tr style=\"text-align: right;\">\n",
       "      <th></th>\n",
       "      <th>instant</th>\n",
       "      <th>dteday</th>\n",
       "      <th>season</th>\n",
       "      <th>yr</th>\n",
       "      <th>mnth</th>\n",
       "      <th>hr</th>\n",
       "      <th>holiday</th>\n",
       "      <th>weekday</th>\n",
       "      <th>workingday</th>\n",
       "      <th>weathersit</th>\n",
       "      <th>...</th>\n",
       "      <th>casual</th>\n",
       "      <th>registered</th>\n",
       "      <th>cnt</th>\n",
       "      <th>time_label</th>\n",
       "      <th>prediction1</th>\n",
       "      <th>prediction2</th>\n",
       "      <th>prediction3</th>\n",
       "      <th>prediction4</th>\n",
       "      <th>prediction5</th>\n",
       "      <th>prediction6</th>\n",
       "    </tr>\n",
       "  </thead>\n",
       "  <tbody>\n",
       "    <tr>\n",
       "      <th>5916</th>\n",
       "      <td>5917</td>\n",
       "      <td>2011-09-09</td>\n",
       "      <td>3</td>\n",
       "      <td>0</td>\n",
       "      <td>9</td>\n",
       "      <td>1</td>\n",
       "      <td>0</td>\n",
       "      <td>5</td>\n",
       "      <td>1</td>\n",
       "      <td>2</td>\n",
       "      <td>...</td>\n",
       "      <td>0</td>\n",
       "      <td>8</td>\n",
       "      <td>8</td>\n",
       "      <td>4</td>\n",
       "      <td>1.234099</td>\n",
       "      <td>7.953125</td>\n",
       "      <td>15.113315</td>\n",
       "      <td>31.0</td>\n",
       "      <td>31.936255</td>\n",
       "      <td>26.289555</td>\n",
       "    </tr>\n",
       "    <tr>\n",
       "      <th>6583</th>\n",
       "      <td>6584</td>\n",
       "      <td>2011-10-06</td>\n",
       "      <td>4</td>\n",
       "      <td>0</td>\n",
       "      <td>10</td>\n",
       "      <td>21</td>\n",
       "      <td>0</td>\n",
       "      <td>4</td>\n",
       "      <td>1</td>\n",
       "      <td>1</td>\n",
       "      <td>...</td>\n",
       "      <td>34</td>\n",
       "      <td>161</td>\n",
       "      <td>195</td>\n",
       "      <td>3</td>\n",
       "      <td>100.056315</td>\n",
       "      <td>168.640625</td>\n",
       "      <td>132.582757</td>\n",
       "      <td>99.0</td>\n",
       "      <td>108.315789</td>\n",
       "      <td>110.937581</td>\n",
       "    </tr>\n",
       "    <tr>\n",
       "      <th>10917</th>\n",
       "      <td>10918</td>\n",
       "      <td>2012-04-05</td>\n",
       "      <td>2</td>\n",
       "      <td>1</td>\n",
       "      <td>4</td>\n",
       "      <td>1</td>\n",
       "      <td>0</td>\n",
       "      <td>4</td>\n",
       "      <td>1</td>\n",
       "      <td>1</td>\n",
       "      <td>...</td>\n",
       "      <td>4</td>\n",
       "      <td>9</td>\n",
       "      <td>13</td>\n",
       "      <td>4</td>\n",
       "      <td>193.065199</td>\n",
       "      <td>125.703125</td>\n",
       "      <td>26.693600</td>\n",
       "      <td>14.0</td>\n",
       "      <td>33.692308</td>\n",
       "      <td>41.425419</td>\n",
       "    </tr>\n",
       "    <tr>\n",
       "      <th>3576</th>\n",
       "      <td>3577</td>\n",
       "      <td>2011-06-02</td>\n",
       "      <td>2</td>\n",
       "      <td>0</td>\n",
       "      <td>6</td>\n",
       "      <td>22</td>\n",
       "      <td>0</td>\n",
       "      <td>4</td>\n",
       "      <td>1</td>\n",
       "      <td>1</td>\n",
       "      <td>...</td>\n",
       "      <td>14</td>\n",
       "      <td>141</td>\n",
       "      <td>155</td>\n",
       "      <td>3</td>\n",
       "      <td>211.531424</td>\n",
       "      <td>217.546875</td>\n",
       "      <td>177.497243</td>\n",
       "      <td>423.0</td>\n",
       "      <td>208.047619</td>\n",
       "      <td>243.761042</td>\n",
       "    </tr>\n",
       "    <tr>\n",
       "      <th>1975</th>\n",
       "      <td>1976</td>\n",
       "      <td>2011-03-28</td>\n",
       "      <td>2</td>\n",
       "      <td>0</td>\n",
       "      <td>3</td>\n",
       "      <td>3</td>\n",
       "      <td>0</td>\n",
       "      <td>1</td>\n",
       "      <td>1</td>\n",
       "      <td>1</td>\n",
       "      <td>...</td>\n",
       "      <td>0</td>\n",
       "      <td>2</td>\n",
       "      <td>2</td>\n",
       "      <td>4</td>\n",
       "      <td>2.429544</td>\n",
       "      <td>-14.015625</td>\n",
       "      <td>11.438807</td>\n",
       "      <td>5.0</td>\n",
       "      <td>14.619048</td>\n",
       "      <td>12.012611</td>\n",
       "    </tr>\n",
       "  </tbody>\n",
       "</table>\n",
       "<p>5 rows × 24 columns</p>\n",
       "</div>"
      ],
      "text/plain": [
       "       instant      dteday  season  yr  mnth  hr  holiday  weekday  \\\n",
       "5916      5917  2011-09-09       3   0     9   1        0        5   \n",
       "6583      6584  2011-10-06       4   0    10  21        0        4   \n",
       "10917    10918  2012-04-05       2   1     4   1        0        4   \n",
       "3576      3577  2011-06-02       2   0     6  22        0        4   \n",
       "1975      1976  2011-03-28       2   0     3   3        0        1   \n",
       "\n",
       "       workingday  weathersit     ...       casual  registered  cnt  \\\n",
       "5916            1           2     ...            0           8    8   \n",
       "6583            1           1     ...           34         161  195   \n",
       "10917           1           1     ...            4           9   13   \n",
       "3576            1           1     ...           14         141  155   \n",
       "1975            1           1     ...            0           2    2   \n",
       "\n",
       "       time_label  prediction1  prediction2  prediction3  prediction4  \\\n",
       "5916            4     1.234099     7.953125    15.113315         31.0   \n",
       "6583            3   100.056315   168.640625   132.582757         99.0   \n",
       "10917           4   193.065199   125.703125    26.693600         14.0   \n",
       "3576            3   211.531424   217.546875   177.497243        423.0   \n",
       "1975            4     2.429544   -14.015625    11.438807          5.0   \n",
       "\n",
       "       prediction5  prediction6  \n",
       "5916     31.936255    26.289555  \n",
       "6583    108.315789   110.937581  \n",
       "10917    33.692308    41.425419  \n",
       "3576    208.047619   243.761042  \n",
       "1975     14.619048    12.012611  \n",
       "\n",
       "[5 rows x 24 columns]"
      ]
     },
     "execution_count": 379,
     "metadata": {},
     "output_type": "execute_result"
    }
   ],
   "source": [
    "test.head()"
   ]
  },
  {
   "cell_type": "code",
   "execution_count": null,
   "metadata": {
    "collapsed": true
   },
   "outputs": [],
   "source": []
  }
 ],
 "metadata": {
  "kernelspec": {
   "display_name": "Python 3",
   "language": "python",
   "name": "python3"
  },
  "language_info": {
   "codemirror_mode": {
    "name": "ipython",
    "version": 3
   },
   "file_extension": ".py",
   "mimetype": "text/x-python",
   "name": "python",
   "nbconvert_exporter": "python",
   "pygments_lexer": "ipython3",
   "version": "3.4.3"
  }
 },
 "nbformat": 4,
 "nbformat_minor": 0
}
